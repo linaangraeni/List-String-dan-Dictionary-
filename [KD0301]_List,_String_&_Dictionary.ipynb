{
  "nbformat": 4,
  "nbformat_minor": 0,
  "metadata": {
    "colab": {
      "name": "[KD0301]_List,_String_&_Dictionary.ipynb",
      "provenance": [],
      "collapsed_sections": [
        "Y0cxNwSpKqLf",
        "SXjjDvqYwPWD"
      ],
      "toc_visible": true,
      "include_colab_link": true
    },
    "kernelspec": {
      "name": "python3",
      "display_name": "Python 3"
    }
  },
  "cells": [
    {
      "cell_type": "markdown",
      "metadata": {
        "id": "view-in-github",
        "colab_type": "text"
      },
      "source": [
        "<a href=\"https://colab.research.google.com/github/linaangraeni/List-String-dan-Dictionary-/blob/main/%5BKD0301%5D_List%2C_String_%26_Dictionary.ipynb\" target=\"_parent\"><img src=\"https://colab.research.google.com/assets/colab-badge.svg\" alt=\"Open In Colab\"/></a>"
      ]
    },
    {
      "cell_type": "markdown",
      "metadata": {
        "id": "z4A1mfUYu7qg"
      },
      "source": [
        "![alt text](https://drive.google.com/uc?id=1Jnmc3tPdh1jxyNwURPKEqzpM_qdEwaJc\n",
        ")"
      ]
    },
    {
      "cell_type": "markdown",
      "metadata": {
        "id": "MtoDiMzGwXiA"
      },
      "source": [
        "Assalamualaikum warahmatullahi wabarakatuh.\n",
        "\n",
        "***Robbi Zidni Ilma Warzuqni Fahma***\n",
        "\n",
        "Semoga Allah memberi kemudahan untuk kita memperoleh ilmu yang bermanfaat.\n",
        "\n",
        "Ini adalah notebook yang disusun untuk program **Kelas Dasar Pejuang Data 2.0** .\n",
        "\n",
        "Ini adalah **Notebook, List, String, & Dictionary Pada Python**:\n",
        "\n",
        "## **Hasil Yang Ingin Dicapai**\n",
        "1. Memahami List Pada Python\n",
        "2. Mengenal dan memahami method-method pada List Python\n",
        "3. Memahami String Pada Python\n",
        "4. Mengenal dan memahami method-method pada String Python\n",
        "5. Memahami Dictionary Pada Python\n",
        "6. Mengenal dan memahami method-method pada Dictionary Python\n",
        "\n",
        "\n",
        "\n"
      ]
    },
    {
      "cell_type": "markdown",
      "metadata": {
        "id": "Y0cxNwSpKqLf"
      },
      "source": [
        "# **List Pada Python**\n",
        "List adalah jenis kumpulan data terurut (ordered sequence), dan merupakan salah satu variabel yang sering digunakan pada Python. Serupa, namun tak sama dengan array pada bahasa pemrograman lainnya. Bedanya, elemen List pada Python tidak harus memiliki tipe data yang sama. Mendeklarasikan List cukup mudah dengan kurung siku dan elemen yang dipisahkan dengan koma. \n"
      ]
    },
    {
      "cell_type": "markdown",
      "metadata": {
        "id": "HBL8Vey2Pbf5"
      },
      "source": [
        "## Membuat List"
      ]
    },
    {
      "cell_type": "code",
      "metadata": {
        "id": "9pOtKzstLp3_",
        "colab": {
          "base_uri": "https://localhost:8080/"
        },
        "outputId": "96a4e52a-7c7f-496b-a04d-ed9165ee61a1"
      },
      "source": [
        "matkul = [\"fuzzy\", \"pdp\", \"metnum\" , \"graf\"]\n",
        "print(matkul)"
      ],
      "execution_count": null,
      "outputs": [
        {
          "output_type": "stream",
          "text": [
            "['fuzzy', 'pdp', 'metnum', 'graf']\n"
          ],
          "name": "stdout"
        }
      ]
    },
    {
      "cell_type": "code",
      "metadata": {
        "colab": {
          "base_uri": "https://localhost:8080/"
        },
        "id": "txNXP4AfA3tV",
        "outputId": "7f2eaccf-0bea-4b45-a5af-14c52e2c880f"
      },
      "source": [
        "sayur = [\"sop ayam\",\"sayur asem\",\"pakcoy\"]\n",
        "print(sayur)"
      ],
      "execution_count": 1,
      "outputs": [
        {
          "output_type": "stream",
          "text": [
            "['sop ayam', 'sayur asem', 'pakcoy']\n"
          ],
          "name": "stdout"
        }
      ]
    },
    {
      "cell_type": "markdown",
      "metadata": {
        "id": "PbSXryBkPdYT"
      },
      "source": [
        "## Mengakses elemen List"
      ]
    },
    {
      "cell_type": "markdown",
      "metadata": {
        "id": "15RUf2ihMM-Z"
      },
      "source": [
        "Menampilkan elemen\n",
        "caranya dengan menggunakan fungsi print"
      ]
    },
    {
      "cell_type": "code",
      "metadata": {
        "id": "Hp7Maj7rMf01",
        "colab": {
          "base_uri": "https://localhost:8080/"
        },
        "outputId": "610f9fc4-c18b-41a5-bea7-0f56bdfcd0f9"
      },
      "source": [
        "matkul = [\"fuzzy\", \"pdp\", \"metnum\" , \"graph\"]\n",
        "print(matkul[2])\n",
        "print(matkul[2:])\n",
        "print(matkul[0:3:2])\n",
        "print(matkul[-2])\n",
        "print(matkul[-4:-1])"
      ],
      "execution_count": null,
      "outputs": [
        {
          "output_type": "stream",
          "text": [
            "metnum\n",
            "['metnum', 'graph']\n",
            "['fuzzy', 'metnum']\n",
            "metnum\n",
            "['fuzzy', 'pdp', 'metnum']\n"
          ],
          "name": "stdout"
        }
      ]
    },
    {
      "cell_type": "code",
      "metadata": {
        "colab": {
          "base_uri": "https://localhost:8080/"
        },
        "id": "3w0vQWHKBldI",
        "outputId": "89d7d095-6b8f-43da-c64f-ad301f3989c6"
      },
      "source": [
        "sayur = [\"kol\", \"pakcoy\", \"wortel\" , \"tomat\"]\n",
        "print(sayur[3])\n",
        "print(sayur[3:])\n",
        "print(sayur[0:3:1])\n",
        "print(sayur[-3])\n",
        "print(sayur[-3:-1])"
      ],
      "execution_count": 2,
      "outputs": [
        {
          "output_type": "stream",
          "text": [
            "tomat\n",
            "['tomat']\n",
            "['kol', 'pakcoy', 'wortel']\n",
            "pakcoy\n",
            "['pakcoy', 'wortel']\n"
          ],
          "name": "stdout"
        }
      ]
    },
    {
      "cell_type": "markdown",
      "metadata": {
        "id": "v-KS7vuvPjYn"
      },
      "source": [
        "## Mengubah elemen List"
      ]
    },
    {
      "cell_type": "markdown",
      "metadata": {
        "id": "RSAg61A8a2qG"
      },
      "source": [
        "cara mengubah elemen dalam list"
      ]
    },
    {
      "cell_type": "code",
      "metadata": {
        "id": "UvoInRZ-bBWR",
        "colab": {
          "base_uri": "https://localhost:8080/"
        },
        "outputId": "35be2c92-ddd7-4f1e-a4e5-3bd2f684bf7c"
      },
      "source": [
        "matkul = [\"fuzzy\", \"pdp\", \"metnum\" , \"graf\" , \"sisdim\"]\n",
        "matkul[3] = \"aktuaria\"\n",
        "print(matkul)"
      ],
      "execution_count": null,
      "outputs": [
        {
          "output_type": "stream",
          "text": [
            "['fuzzy', 'pdp', 'metnum', 'aktuaria', 'sisdim']\n"
          ],
          "name": "stdout"
        }
      ]
    },
    {
      "cell_type": "code",
      "metadata": {
        "colab": {
          "base_uri": "https://localhost:8080/"
        },
        "id": "iEwWjyJhCr0g",
        "outputId": "31ed4c69-2dd8-42a1-e3c9-1f38b18919df"
      },
      "source": [
        "fruits = [\"grape\", \"apple\", \"lemon\" , \"orange\" , \"starfruits\"]\n",
        "fruits[0] = \"pineapple\"\n",
        "print(fruits)"
      ],
      "execution_count": 3,
      "outputs": [
        {
          "output_type": "stream",
          "text": [
            "['pineapple', 'apple', 'lemon', 'orange', 'starfruits']\n"
          ],
          "name": "stdout"
        }
      ]
    },
    {
      "cell_type": "markdown",
      "metadata": {
        "id": "qgQOa6EBPmGU"
      },
      "source": [
        "## Looping di dalam List"
      ]
    },
    {
      "cell_type": "markdown",
      "metadata": {
        "id": "cHHmiQv4bY3C"
      },
      "source": [
        "looping pada list"
      ]
    },
    {
      "cell_type": "code",
      "metadata": {
        "id": "m-2tgYqUbfP3",
        "colab": {
          "base_uri": "https://localhost:8080/"
        },
        "outputId": "cd1ef9cc-e0ae-46da-c17b-b0c9a4cc9837"
      },
      "source": [
        "matkul = [\"fuzzy\", \"pdp\", \"metnum\" , \"graf\"]\n",
        "\n",
        "for x in matkul:\n",
        "  print(x)"
      ],
      "execution_count": null,
      "outputs": [
        {
          "output_type": "stream",
          "text": [
            "fuzzy\n",
            "pdp\n",
            "metnum\n",
            "graf\n"
          ],
          "name": "stdout"
        }
      ]
    },
    {
      "cell_type": "code",
      "metadata": {
        "colab": {
          "base_uri": "https://localhost:8080/"
        },
        "id": "w47ZQBE9DR8y",
        "outputId": "9bacffa9-fded-428f-965a-4febeb649d5f"
      },
      "source": [
        "makan_siang_apa = [\"geprek\", \"soto\", \"tumini\" , \"pecel\"]\n",
        "\n",
        "for x in makan_siang_apa:\n",
        "  print(x)"
      ],
      "execution_count": 5,
      "outputs": [
        {
          "output_type": "stream",
          "text": [
            "geprek\n",
            "soto\n",
            "tumini\n",
            "pecel\n"
          ],
          "name": "stdout"
        }
      ]
    },
    {
      "cell_type": "markdown",
      "metadata": {
        "id": "1O4HrdbWPpm4"
      },
      "source": [
        "## Cek elemen pada List"
      ]
    },
    {
      "cell_type": "markdown",
      "metadata": {
        "id": "cv0aU1cEbvOd"
      },
      "source": [
        "cara mengecek apakah suatu elemen berada dalam list"
      ]
    },
    {
      "cell_type": "code",
      "metadata": {
        "id": "GNNA1lRkcAmT",
        "colab": {
          "base_uri": "https://localhost:8080/"
        },
        "outputId": "377807b3-2c48-4d53-c3d4-7c2102773771"
      },
      "source": [
        "matkul = [\"fuzzy\", \"pdp\", \"metnum\" , \"graf\"]\n",
        "if \"fuzzy\" in matkul:\n",
        "  print('fuzzy termasuk matkul')"
      ],
      "execution_count": null,
      "outputs": [
        {
          "output_type": "stream",
          "text": [
            "fuzzy termasuk matkul\n"
          ],
          "name": "stdout"
        }
      ]
    },
    {
      "cell_type": "code",
      "metadata": {
        "colab": {
          "base_uri": "https://localhost:8080/"
        },
        "id": "udfWphmKDwJL",
        "outputId": "7f4110dd-f080-4f51-d3fb-b4dc76f530ae"
      },
      "source": [
        "minum = [\"esque\", \"chattime\", \"sususarjana\" , \"dum\"]\n",
        "if \"chattime\" in minum:\n",
        "  print('chattime termasuk minum')"
      ],
      "execution_count": 6,
      "outputs": [
        {
          "output_type": "stream",
          "text": [
            "chattime termasuk minum\n"
          ],
          "name": "stdout"
        }
      ]
    },
    {
      "cell_type": "markdown",
      "metadata": {
        "id": "uWchVoGNPsvh"
      },
      "source": [
        "## Menghitung jumlah elemen List"
      ]
    },
    {
      "cell_type": "markdown",
      "metadata": {
        "id": "U6CA-4q8cQfC"
      },
      "source": [
        "cara mengetahui jumlah elemen dalam list"
      ]
    },
    {
      "cell_type": "code",
      "metadata": {
        "id": "1ohkG60acYxq",
        "colab": {
          "base_uri": "https://localhost:8080/"
        },
        "outputId": "2c845d51-3878-4cff-cdbd-a5ae55dc632f"
      },
      "source": [
        "matkul = [\"fuzzy\", \"pdp\", \"metnum\" , \"graf\"]\n",
        "print(len(matkul))"
      ],
      "execution_count": null,
      "outputs": [
        {
          "output_type": "stream",
          "text": [
            "4\n"
          ],
          "name": "stdout"
        }
      ]
    },
    {
      "cell_type": "code",
      "metadata": {
        "colab": {
          "base_uri": "https://localhost:8080/"
        },
        "id": "r6HfFA7kEL05",
        "outputId": "36f2f091-5b96-4c71-b752-54f54ecfc191"
      },
      "source": [
        "sarapan = [\"soto\", \"gudeg\", \"indomie\" , \"salad\",\"pecel\",\"cake\"]\n",
        "print(len(sarapan))"
      ],
      "execution_count": 8,
      "outputs": [
        {
          "output_type": "stream",
          "text": [
            "6\n"
          ],
          "name": "stdout"
        }
      ]
    },
    {
      "cell_type": "markdown",
      "metadata": {
        "id": "SXjjDvqYwPWD"
      },
      "source": [
        "# **Berbagai Method untuk List pada Python**"
      ]
    },
    {
      "cell_type": "markdown",
      "metadata": {
        "id": "GW_xJLbPOaPm"
      },
      "source": [
        "## Menambah elemen List"
      ]
    },
    {
      "cell_type": "markdown",
      "metadata": {
        "id": "O85URks5cmkj"
      },
      "source": [
        "cara menambahkan elemen dalam list\n",
        "ada 2 cara untuk menambahkan elemen pada list, yaitu;\n",
        "1. menggunakan metode append()\n",
        "2. menggunakan metode insert()\n"
      ]
    },
    {
      "cell_type": "code",
      "metadata": {
        "id": "nVJEDf96dOfe",
        "colab": {
          "base_uri": "https://localhost:8080/"
        },
        "outputId": "83b083c7-052e-46e1-eb16-c1508e4db002"
      },
      "source": [
        "#metode append : menambahkan elemen pada baris terakhir\n",
        "matkul = [\"fuzzy\", \"pdp\", \"metnum\" , \"graf\"]\n",
        "matkul.append(\"anreg\")\n",
        "print(matkul)"
      ],
      "execution_count": null,
      "outputs": [
        {
          "output_type": "stream",
          "text": [
            "['fuzzy', 'pdp', 'metnum', 'graf', 'anreg']\n"
          ],
          "name": "stdout"
        }
      ]
    },
    {
      "cell_type": "code",
      "metadata": {
        "colab": {
          "base_uri": "https://localhost:8080/"
        },
        "id": "rOFLq5QME0WH",
        "outputId": "ae98f183-3a90-4933-f121-7151a9fa9ff4"
      },
      "source": [
        "#metode append : menambahkan elemen pada baris terakhir\n",
        "cake = [\"rainbow\", \"redvelvet\", \"blackforest\" , \"marble\",\"roll\",\"brownies\"]\n",
        "cake.append(\"cheese\")\n",
        "print(cake)"
      ],
      "execution_count": 12,
      "outputs": [
        {
          "output_type": "stream",
          "text": [
            "['rainbow', 'redvelvet', 'blackforest', 'marble', 'roll', 'brownies', 'cheese']\n"
          ],
          "name": "stdout"
        }
      ]
    },
    {
      "cell_type": "code",
      "metadata": {
        "id": "6XrL3bqddhRt",
        "colab": {
          "base_uri": "https://localhost:8080/"
        },
        "outputId": "dfe45b0d-556a-4c7c-b9e2-4121f319c4f8"
      },
      "source": [
        "#metode insert : memasukkan elemen pada baris tertentu\n",
        "matkul = [\"fuzzy\", \"pdp\", \"metnum\" , \"graf\"]\n",
        "matkul.insert(1, 'anriil')\n",
        "print(matkul)"
      ],
      "execution_count": null,
      "outputs": [
        {
          "output_type": "stream",
          "text": [
            "['fuzzy', 'anriil', 'pdp', 'metnum', 'graf']\n"
          ],
          "name": "stdout"
        }
      ]
    },
    {
      "cell_type": "code",
      "metadata": {
        "colab": {
          "base_uri": "https://localhost:8080/"
        },
        "id": "XPOwZTBwFuhT",
        "outputId": "698fc261-5c0d-4578-9405-9c8547874d1f"
      },
      "source": [
        "#metode insert : memasukkan elemen pada baris tertentu\n",
        "sayur = [\"wortel\", \"tomat\", \"pakcoy\" , \"jagung\",\"brokoli\"]\n",
        "sayur.insert(2, 'mentimun')\n",
        "print(sayur)"
      ],
      "execution_count": 14,
      "outputs": [
        {
          "output_type": "stream",
          "text": [
            "['wortel', 'tomat', 'mentimun', 'pakcoy', 'jagung', 'brokoli']\n"
          ],
          "name": "stdout"
        }
      ]
    },
    {
      "cell_type": "markdown",
      "metadata": {
        "id": "whHs8DMhOeyP"
      },
      "source": [
        "## Menghapus elemen List"
      ]
    },
    {
      "cell_type": "markdown",
      "metadata": {
        "id": "QK9-9GhIeE4u"
      },
      "source": [
        "menghapus elemen dalam list\n",
        "ada beberapa cara untuk menghapus elemen\n",
        "1. menggunakan keyword del\n",
        "2. menggunakan metode remove()\n",
        "3. menggunakan metode pop()\n",
        "4. menggunakan metode clear()"
      ]
    },
    {
      "cell_type": "code",
      "metadata": {
        "id": "b9dTvzNrewLA",
        "colab": {
          "base_uri": "https://localhost:8080/"
        },
        "outputId": "0786c407-7649-4281-f8aa-22aa3c97de68"
      },
      "source": [
        "#menggunakan keyword del,(bukan hanya bisa menghapus elemen tapi bisa juga untuk mnghapus list)\n",
        "matkul = [\"fuzzy\", \"pdp\", \"metnum\" , \"graf\"]\n",
        "del matkul[3]\n",
        "print(matkul)\n",
        "matkul1 = [\"fuzzy\", \"pdp\", \"metnum\" , \"graf\"]\n",
        "del matkul"
      ],
      "execution_count": null,
      "outputs": [
        {
          "output_type": "stream",
          "text": [
            "['fuzzy', 'pdp', 'metnum']\n"
          ],
          "name": "stdout"
        }
      ]
    },
    {
      "cell_type": "code",
      "metadata": {
        "colab": {
          "base_uri": "https://localhost:8080/"
        },
        "id": "qWtWKnG9GX9Z",
        "outputId": "be52efb3-ab09-4381-da5f-95fc9bc14820"
      },
      "source": [
        "#menggunakan keyword del,(bukan hanya bisa menghapus elemen tapi bisa juga untuk mnghapus list)\n",
        "menu_nasi_padang = [\"ayam\", \"rendang\", \"ikan\" , \"cumi\"]\n",
        "del menu_nasi_padang[2]\n",
        "print(menu_nasi_padang)\n",
        "menu_nasi_padang1 = [\"ayam\", \"rendang\", \"ikan\" , \"cumi\"]\n",
        "del menu_nasi_padang"
      ],
      "execution_count": 15,
      "outputs": [
        {
          "output_type": "stream",
          "text": [
            "['ayam', 'rendang', 'cumi']\n"
          ],
          "name": "stdout"
        }
      ]
    },
    {
      "cell_type": "code",
      "metadata": {
        "id": "GNVgWlzAe06_",
        "colab": {
          "base_uri": "https://localhost:8080/"
        },
        "outputId": "189cf4b0-9899-4ec1-b4be-3d19cc8c3b71"
      },
      "source": [
        "#menggunakan metode remove(): menggunakan remove() harus menyebutkan nama elemennya langsung\n",
        "matkul = [\"fuzzy\", \"pdp\", \"metnum\" , \"graf\"]\n",
        "matkul.remove(\"fuzzy\")\n",
        "print(matkul)\n"
      ],
      "execution_count": null,
      "outputs": [
        {
          "output_type": "stream",
          "text": [
            "['pdp', 'metnum', 'graf']\n"
          ],
          "name": "stdout"
        }
      ]
    },
    {
      "cell_type": "code",
      "metadata": {
        "colab": {
          "base_uri": "https://localhost:8080/"
        },
        "id": "uuKoT4fOG6Zj",
        "outputId": "e266a39c-25a6-4e87-e754-49f6b7a8080e"
      },
      "source": [
        "#menggunakan metode remove(): menggunakan remove() harus menyebutkan nama elemennya langsung\n",
        "makanan = [\"padang\", \"naskun\", \"pecel\" , \"geprek\"]\n",
        "makanan.remove(\"pecel\")\n",
        "print(makanan)"
      ],
      "execution_count": 16,
      "outputs": [
        {
          "output_type": "stream",
          "text": [
            "['padang', 'naskun', 'geprek']\n"
          ],
          "name": "stdout"
        }
      ]
    },
    {
      "cell_type": "code",
      "metadata": {
        "id": "R3V2IapIf76i",
        "colab": {
          "base_uri": "https://localhost:8080/"
        },
        "outputId": "7b882328-0e2c-4043-da7a-0ceb30d19964"
      },
      "source": [
        "#menggunakan metode pop(a): menghapus elemen baris ke-a atau baris terakhir\n",
        "matkul = [\"fuzzy\", \"pdp\", \"metnum\" , \"graf\"]\n",
        "matkul.pop(2)\n",
        "matkul.pop()\n",
        "print(matkul) "
      ],
      "execution_count": null,
      "outputs": [
        {
          "output_type": "stream",
          "text": [
            "['fuzzy', 'pdp']\n"
          ],
          "name": "stdout"
        }
      ]
    },
    {
      "cell_type": "code",
      "metadata": {
        "colab": {
          "base_uri": "https://localhost:8080/"
        },
        "id": "E42WnQvwHjTe",
        "outputId": "99f043f7-f258-4e74-8d29-3962e4f033c3"
      },
      "source": [
        "#menggunakan metode pop(a): menghapus elemen baris ke-a atau baris terakhir\n",
        "mie_instant = [\"indomie\", \"supermie\", \"sedap\" , \"sarimi\"]\n",
        "mie_instant.pop(2)\n",
        "mie_instant.pop()\n",
        "print(mie_instant) "
      ],
      "execution_count": 17,
      "outputs": [
        {
          "output_type": "stream",
          "text": [
            "['indomie', 'supermie']\n"
          ],
          "name": "stdout"
        }
      ]
    },
    {
      "cell_type": "code",
      "metadata": {
        "id": "IYrhbP_wga_Q",
        "colab": {
          "base_uri": "https://localhost:8080/"
        },
        "outputId": "07a99b59-8f26-43e2-d69e-db45d499f1f4"
      },
      "source": [
        "#menggunakan metode clear(): menghapus seluruh elemen pada list\n",
        "matkul = [\"fuzzy\", \"pdp\", \"metnum\" , \"graf\"]\n",
        "matkul.clear()\n",
        "print(matkul)"
      ],
      "execution_count": null,
      "outputs": [
        {
          "output_type": "stream",
          "text": [
            "[]\n"
          ],
          "name": "stdout"
        }
      ]
    },
    {
      "cell_type": "code",
      "metadata": {
        "colab": {
          "base_uri": "https://localhost:8080/"
        },
        "id": "5pOPdPrDILL_",
        "outputId": "07950ede-d1f3-497a-d5c3-3654d617347c"
      },
      "source": [
        "#menggunakan metode clear(): menghapus seluruh elemen pada list\n",
        "sayur = [\"tomat\", \"mentimun\", \"wortel\" , \"kangkung\"]\n",
        "sayur.clear()\n",
        "print(sayur)"
      ],
      "execution_count": 18,
      "outputs": [
        {
          "output_type": "stream",
          "text": [
            "[]\n"
          ],
          "name": "stdout"
        }
      ]
    },
    {
      "cell_type": "markdown",
      "metadata": {
        "id": "Yhka3x5-Oht-"
      },
      "source": [
        "## Mengkopi List"
      ]
    },
    {
      "cell_type": "markdown",
      "metadata": {
        "id": "uIB3DvQYgrJ-"
      },
      "source": [
        "copy list\n",
        "ada 2 cara untuk copy list\n",
        "1. menggunakan metode copy()\n",
        "2. menggunakan metode list()"
      ]
    },
    {
      "cell_type": "code",
      "metadata": {
        "id": "oaTesw-zhFOt",
        "colab": {
          "base_uri": "https://localhost:8080/"
        },
        "outputId": "b9bee49d-1c12-47f0-a2e1-7bd7d5f13d63"
      },
      "source": [
        "#menggunakan metode copy()\n",
        "matkul = [\"fuzzy\", \"pdp\", \"metnum\" , \"graf\"]\n",
        "matlah = matkul.copy()\n",
        "print(matlah)"
      ],
      "execution_count": null,
      "outputs": [
        {
          "output_type": "stream",
          "text": [
            "['fuzzy', 'pdp', 'metnum', 'graf']\n"
          ],
          "name": "stdout"
        }
      ]
    },
    {
      "cell_type": "code",
      "metadata": {
        "colab": {
          "base_uri": "https://localhost:8080/"
        },
        "id": "D3f_zMabIjHA",
        "outputId": "430c1aea-a6e9-499c-c58c-231dfe543c5c"
      },
      "source": [
        "#menggunakan metode copy()\n",
        "artis = [\"lucinta\", \"luna\", \"sudah\" , \"bebas\"]\n",
        "sensasi = artis.copy()\n",
        "print(sensasi)"
      ],
      "execution_count": 20,
      "outputs": [
        {
          "output_type": "stream",
          "text": [
            "['lucinta', 'luna', 'sudah', 'bebas']\n"
          ],
          "name": "stdout"
        }
      ]
    },
    {
      "cell_type": "code",
      "metadata": {
        "id": "TFz6YhanhWS9",
        "colab": {
          "base_uri": "https://localhost:8080/"
        },
        "outputId": "460fee32-7339-4cbe-daf8-1fd87111c640"
      },
      "source": [
        "#menggunakan metode list()\n",
        "matkul = [\"fuzzy\", \"pdp\", \"metnum\" , \"graf\"]\n",
        "matlah = list(matkul)\n",
        "print(matlah)"
      ],
      "execution_count": null,
      "outputs": [
        {
          "output_type": "stream",
          "text": [
            "['fuzzy', 'pdp', 'metnum', 'graf']\n"
          ],
          "name": "stdout"
        }
      ]
    },
    {
      "cell_type": "code",
      "metadata": {
        "colab": {
          "base_uri": "https://localhost:8080/"
        },
        "id": "XhqUbbYoJJ3I",
        "outputId": "824f59ad-1b24-4231-aa6b-a8f95be04b6e"
      },
      "source": [
        "#menggunakan metode list()\n",
        "makan_siang = [\"ayam\", \"geprek\", \"tumini\" , \"indomie\"]\n",
        "lunch = list(makan_siang)\n",
        "print(lunch)"
      ],
      "execution_count": 21,
      "outputs": [
        {
          "output_type": "stream",
          "text": [
            "['ayam', 'geprek', 'tumini', 'indomie']\n"
          ],
          "name": "stdout"
        }
      ]
    },
    {
      "cell_type": "markdown",
      "metadata": {
        "id": "OGdeaa29OpbH"
      },
      "source": [
        "## Menggabung List"
      ]
    },
    {
      "cell_type": "markdown",
      "metadata": {
        "id": "yPxC06ewhjnC"
      },
      "source": [
        "cara menggabungkan 2 list\n",
        "1. menggunakan tanda +\n",
        "2. menggunakan metode append()\n",
        "3. menggunakan metode extend()"
      ]
    },
    {
      "cell_type": "code",
      "metadata": {
        "id": "JGECFOskh8n8",
        "colab": {
          "base_uri": "https://localhost:8080/"
        },
        "outputId": "70013e23-b7a9-480d-d67e-b0f6cabe70dd"
      },
      "source": [
        "#menggnakan tanda +\n",
        "matkul = [\"fuzzy\", \"pdp\", \"metnum\" , \"graf\"]\n",
        "angka = [1, 2, 3, 4]\n",
        "\n",
        "hasil = matkul + angka\n",
        "print(hasil)"
      ],
      "execution_count": null,
      "outputs": [
        {
          "output_type": "stream",
          "text": [
            "['fuzzy', 'pdp', 'metnum', 'graf', 1, 2, 3, 4]\n"
          ],
          "name": "stdout"
        }
      ]
    },
    {
      "cell_type": "code",
      "metadata": {
        "colab": {
          "base_uri": "https://localhost:8080/"
        },
        "id": "b6Uo_jW8Jjsx",
        "outputId": "c96d175d-3137-4972-f925-40d46567444b"
      },
      "source": [
        "#menggnakan tanda +\n",
        "merk_laptop = [\"acer\", \"asus\", \"lenovo\" , \"hp\"]\n",
        "grade = [3, 4, 5, 6]\n",
        "\n",
        "hasil = merk_laptop + grade\n",
        "print(hasil)"
      ],
      "execution_count": 22,
      "outputs": [
        {
          "output_type": "stream",
          "text": [
            "['acer', 'asus', 'lenovo', 'hp', 3, 4, 5, 6]\n"
          ],
          "name": "stdout"
        }
      ]
    },
    {
      "cell_type": "code",
      "metadata": {
        "id": "EhwfXTCuiL1U",
        "colab": {
          "base_uri": "https://localhost:8080/"
        },
        "outputId": "63b0d9d0-b8a3-4054-9603-1b0ec1b7a5d7"
      },
      "source": [
        "#menggunakan metode append\n",
        "matkul = [\"fuzzy\", \"pdp\", \"metnum\" , \"graf\"]\n",
        "angka = [1, 2, 3, 4]\n",
        "\n",
        "for x in angka:\n",
        "  matkul.append(x)\n",
        "\n",
        "print(matkul)"
      ],
      "execution_count": null,
      "outputs": [
        {
          "output_type": "stream",
          "text": [
            "['fuzzy', 'pdp', 'metnum', 'graf', 1, 2, 3, 4]\n"
          ],
          "name": "stdout"
        }
      ]
    },
    {
      "cell_type": "code",
      "metadata": {
        "colab": {
          "base_uri": "https://localhost:8080/"
        },
        "id": "kbVp7VyZKIl-",
        "outputId": "87f6fd8e-39ad-47ff-9777-e7aa8ab41a72"
      },
      "source": [
        "#menggunakan metode append\n",
        "sapaan = [\"hai\", \"hallo\", \"oy\" , \"oioi\"]\n",
        "grade = [6, 7, 8, 9]\n",
        "\n",
        "for x in grade:\n",
        "  sapaan.append(x)\n",
        "\n",
        "print(sapaan)"
      ],
      "execution_count": 23,
      "outputs": [
        {
          "output_type": "stream",
          "text": [
            "['hai', 'hallo', 'oy', 'oioi', 6, 7, 8, 9]\n"
          ],
          "name": "stdout"
        }
      ]
    },
    {
      "cell_type": "code",
      "metadata": {
        "id": "JW9IRHnYii9F",
        "colab": {
          "base_uri": "https://localhost:8080/"
        },
        "outputId": "83f6701f-dbb6-4e00-c703-851567669736"
      },
      "source": [
        "#menggunakan metode extend\n",
        "matkul = [\"fuzzy\", \"pdp\", \"metnum\" , \"graf\"]\n",
        "angka = [1, 2, 3, 4]\n",
        "\n",
        "matkul.extend(angka)\n",
        "print(matkul)"
      ],
      "execution_count": null,
      "outputs": [
        {
          "output_type": "stream",
          "text": [
            "['fuzzy', 'pdp', 'metnum', 'graf', 1, 2, 3, 4]\n"
          ],
          "name": "stdout"
        }
      ]
    },
    {
      "cell_type": "code",
      "metadata": {
        "colab": {
          "base_uri": "https://localhost:8080/"
        },
        "id": "Kjsyjo_uKpNY",
        "outputId": "62f1bad9-e145-4fe5-e40a-bf9bcdd50c01"
      },
      "source": [
        "#menggunakan metode extend\n",
        "kebutuhan_tubuh = [\"karbohidrat\", \"protein\", \"vitamin\" , \"mineral\"]\n",
        "grade = [3,4,5,6]\n",
        "\n",
        "kebutuhan_tubuh.extend(grade)\n",
        "print(kebutuhan_tubuh)"
      ],
      "execution_count": 25,
      "outputs": [
        {
          "output_type": "stream",
          "text": [
            "['karbohidrat', 'protein', 'vitamin', 'mineral', 3, 4, 5, 6]\n"
          ],
          "name": "stdout"
        }
      ]
    },
    {
      "cell_type": "markdown",
      "metadata": {
        "id": "K-85e962443K"
      },
      "source": [
        "# **String pada Python**\n"
      ]
    },
    {
      "cell_type": "markdown",
      "metadata": {
        "id": "3U8ND-Ft5ZII"
      },
      "source": [
        "## *String Literals*\n",
        "####String literal dalam python diapit oleh tanda kutip tunggal, atau tanda kutip ganda\n",
        "####'Buku' = \"Buku\" dalam python ini sama saja\n",
        "####Anda dapat menampilkan literal string dengan fungsi print ():\n"
      ]
    },
    {
      "cell_type": "code",
      "metadata": {
        "id": "StGvS-Ey1bLX",
        "colab": {
          "base_uri": "https://localhost:8080/"
        },
        "outputId": "7258184b-796b-47c1-cff9-083fa07eb605"
      },
      "source": [
        "#Contoh :\n",
        "print(\"Hello\")\n",
        "print('Hello')"
      ],
      "execution_count": null,
      "outputs": [
        {
          "output_type": "stream",
          "text": [
            "Hello\n",
            "Hello\n"
          ],
          "name": "stdout"
        }
      ]
    },
    {
      "cell_type": "markdown",
      "metadata": {
        "id": "-aatCBuO95wP"
      },
      "source": [
        "Expected output:\n",
        "```\n",
        "Hello\n",
        "Hello\n",
        "```"
      ]
    },
    {
      "cell_type": "code",
      "metadata": {
        "id": "E7xhLyI_D5dE",
        "colab": {
          "base_uri": "https://localhost:8080/"
        },
        "outputId": "11c8bd33-8749-454a-ed9f-44f317ca559f"
      },
      "source": [
        "#Mulai Program mu....^_^\n",
        "print(\"assalamualaikum\")\n",
        "print('assalamualaikum')"
      ],
      "execution_count": 26,
      "outputs": [
        {
          "output_type": "stream",
          "text": [
            "assalamualaikum\n",
            "assalamualaikum\n"
          ],
          "name": "stdout"
        }
      ]
    },
    {
      "cell_type": "markdown",
      "metadata": {
        "id": "uW2Ii3iL9Fbb"
      },
      "source": [
        "## *Assign String to a Variable*\n",
        "####Menetapkan string ke variabel dilakukan dengan nama variabel diikuti dengan tanda sama dengan dan stringnya:"
      ]
    },
    {
      "cell_type": "code",
      "metadata": {
        "id": "HPvNIIOv93Uj",
        "colab": {
          "base_uri": "https://localhost:8080/"
        },
        "outputId": "2a40e336-4be9-48b7-8929-8da620ab9e76"
      },
      "source": [
        "#Contoh\n",
        "a = \"Hello\"\n",
        "print(a)"
      ],
      "execution_count": null,
      "outputs": [
        {
          "output_type": "stream",
          "text": [
            "Hello\n"
          ],
          "name": "stdout"
        }
      ]
    },
    {
      "cell_type": "markdown",
      "metadata": {
        "id": "Rgf7Zdk2-cma"
      },
      "source": [
        "Expected output:\n",
        "```\n",
        "Hello\n",
        "```\n",
        "Penjelasan :\n",
        "a adalah variabel\n",
        "kemudian diikuti tanda samadengan =\n",
        "kemudian masukkan nilai berupa string yaitu \"Hello\""
      ]
    },
    {
      "cell_type": "code",
      "metadata": {
        "id": "XnW_XFWCEU_Y",
        "colab": {
          "base_uri": "https://localhost:8080/"
        },
        "outputId": "88a70c33-4203-412e-9959-e66b12a4645d"
      },
      "source": [
        "#Mulai Program mu....^_^\n",
        "l = \"lina angraeni\"\n",
        "print(l)"
      ],
      "execution_count": 28,
      "outputs": [
        {
          "output_type": "stream",
          "text": [
            "lina angraeni\n"
          ],
          "name": "stdout"
        }
      ]
    },
    {
      "cell_type": "markdown",
      "metadata": {
        "id": "eYAdwdwp_o_M"
      },
      "source": [
        "## *Multiline Strings*\n",
        "####Kita dapat menetapkan string multiline ke variabel dengan menggunakan tiga tanda kutip:"
      ]
    },
    {
      "cell_type": "code",
      "metadata": {
        "id": "KqKBqkEFAv-e",
        "colab": {
          "base_uri": "https://localhost:8080/"
        },
        "outputId": "450ee287-a057-453e-abe0-cc96ecaef5a1"
      },
      "source": [
        "#Contoh 1\n",
        "a = '''PSDS adalah kelompok studi Data Science\n",
        "yang dibentuk oleh mahasiswa\n",
        "program studi Matematika.'''\n",
        "print(a)"
      ],
      "execution_count": null,
      "outputs": [
        {
          "output_type": "stream",
          "text": [
            "PSDS adalah kelompok studi Data Science\n",
            "yang dibentuk oleh mahasiswa\n",
            "program studi Matematika.\n"
          ],
          "name": "stdout"
        }
      ]
    },
    {
      "cell_type": "markdown",
      "metadata": {
        "id": "HoKPF7srDzRN"
      },
      "source": [
        "Expected output:\n",
        "```\n",
        "PSDS adalah kelompok studi Data Science\n",
        "yang dibentuk oleh mahasiswa\n",
        "program studi Matematika.\n",
        "\n",
        "```"
      ]
    },
    {
      "cell_type": "code",
      "metadata": {
        "id": "VowpERdPEsQJ",
        "colab": {
          "base_uri": "https://localhost:8080/"
        },
        "outputId": "cb5f4888-5178-4d1e-8f90-2559d9693420"
      },
      "source": [
        "#Mulai Program mu....^_^\n",
        "l = '''Lina Angraeni adalah anak dari Bp Rasiyono\n",
        "dan Ibu Yuniarti yang paling cantik\n",
        "Karena anaknya cuma satu, ya paling cantik lah, gimana kau ini.'''\n",
        "print(l)"
      ],
      "execution_count": 29,
      "outputs": [
        {
          "output_type": "stream",
          "text": [
            "Lina Angraeni adalah anak dari Bp Rasiyono\n",
            "dan Ibu Yuniarti yang paling cantik\n",
            "Karena anaknya cuma satu, ya paling cantik lah, gimana kau ini.\n"
          ],
          "name": "stdout"
        }
      ]
    },
    {
      "cell_type": "markdown",
      "metadata": {
        "id": "lTmDSoYcB0Gb"
      },
      "source": [
        "Kita bisa juga menggunakan double tanda kutip, misal : ```\"\"\"stringnya\"\"\"```"
      ]
    },
    {
      "cell_type": "code",
      "metadata": {
        "id": "SJRPjO1PBNZF",
        "colab": {
          "base_uri": "https://localhost:8080/"
        },
        "outputId": "b24f3623-5a21-4e08-84ad-20141a541536"
      },
      "source": [
        "#Contoh 2\n",
        "a = \"\"\"PSDS adalah kelompok studi Data Science\n",
        "yang dibentuk oleh mahasiswa\n",
        "program studi Matematika.\"\"\"\n",
        "print(a)\n",
        "#Hasilnya, jeda baris disisipkan pada posisi yang sama seperti pada kode."
      ],
      "execution_count": null,
      "outputs": [
        {
          "output_type": "stream",
          "text": [
            "PSDS adalah kelompok studi Data Science\n",
            "yang dibentuk oleh mahasiswa\n",
            "program studi Matematika.\n"
          ],
          "name": "stdout"
        }
      ]
    },
    {
      "cell_type": "markdown",
      "metadata": {
        "id": "Sy-1uZquD-02"
      },
      "source": [
        "Expected output:\n",
        "```\n",
        "PSDS adalah kelompok studi Data Science\n",
        "yang dibentuk oleh mahasiswa\n",
        "program studi Matematika.\n",
        "```\n",
        "\n",
        "Penjelasan : jeda baris disisipkan pada posisi yang sama seperti pada kode."
      ]
    },
    {
      "cell_type": "code",
      "metadata": {
        "id": "-vth3zQNFEZ3",
        "colab": {
          "base_uri": "https://localhost:8080/"
        },
        "outputId": "cf6fb593-98cf-4aeb-d85d-0623a65cae56"
      },
      "source": [
        "#Mulai Program mu....^_^\n",
        "l = \"\"\"follow instagramku @linangra_ yow\n",
        "nanti ku follback nek ra lali\n",
        "haha canda, jangan serius serius tar cepet tua mau po, santuy aja ngoghey.\"\"\"\n",
        "print(l)\n",
        "#Hasilnya, jeda baris disisipkan pada posisi yang sama seperti pada kode."
      ],
      "execution_count": 31,
      "outputs": [
        {
          "output_type": "stream",
          "text": [
            "follow instagramku @linangra_ yow\n",
            "nanti ku follback nek ra lali\n",
            "haha canda, jangan serius serius tar cepet tua mau po, santuy aja ngoghey.\n"
          ],
          "name": "stdout"
        }
      ]
    },
    {
      "cell_type": "markdown",
      "metadata": {
        "id": "XQLfbQFQEVmu"
      },
      "source": [
        "## *Strings are Arrays*\n",
        "####Seperti banyak bahasa pemrograman populer lainnya, string dalam Python adalah array byte yang mewakili karakter unicode.\n",
        "####Namun, Python tidak memiliki tipe data karakter, satu karakter hanyalah string dengan panjang 1\n",
        "####Tanda kurung siku dapat digunakan untuk mengakses elemen string."
      ]
    },
    {
      "cell_type": "code",
      "metadata": {
        "id": "VqY0-8FUCPBf",
        "colab": {
          "base_uri": "https://localhost:8080/"
        },
        "outputId": "f6acd2d8-3b95-451a-9405-8c4aa972ed30"
      },
      "source": [
        "#Contoh\n",
        "a = \"Hello, World!\"\n",
        "print(a[1])"
      ],
      "execution_count": null,
      "outputs": [
        {
          "output_type": "stream",
          "text": [
            "e\n"
          ],
          "name": "stdout"
        }
      ]
    },
    {
      "cell_type": "markdown",
      "metadata": {
        "id": "nPN1G_m9GhQZ"
      },
      "source": [
        "Expected output:\n",
        "```\n",
        "e\n",
        "```\n",
        "Penjelasan : Dapatkan karakter di posisi 1 (ingat bahwa karakter pertama memiliki posisi 0):\n",
        "\n"
      ]
    },
    {
      "cell_type": "code",
      "metadata": {
        "id": "8t036hewYZzW",
        "colab": {
          "base_uri": "https://localhost:8080/"
        },
        "outputId": "9a8b879c-f86d-4707-9aea-757af71e6695"
      },
      "source": [
        "#Mulai Program mu....^_^\n",
        "g = \"tak critain tapi jangan dikasih tau ke siapa-siapa lho\"\n",
        "print(g[6])"
      ],
      "execution_count": 32,
      "outputs": [
        {
          "output_type": "stream",
          "text": [
            "i\n"
          ],
          "name": "stdout"
        }
      ]
    },
    {
      "cell_type": "markdown",
      "metadata": {
        "id": "vagnEyfWHADQ"
      },
      "source": [
        "## *Slicing*\n",
        "####Anda dapat mengembalikan berbagai karakter dengan menggunakan sintaksis slice.\n",
        "####Tentukan indeks awal dan indeks akhir, dipisahkan oleh titik dua, untuk mengembalikan bagian dari string."
      ]
    },
    {
      "cell_type": "code",
      "metadata": {
        "id": "kvukrxjxIN1s",
        "colab": {
          "base_uri": "https://localhost:8080/"
        },
        "outputId": "9fab28ec-7de0-4d33-e63b-3297d9a7b384"
      },
      "source": [
        "#Contoh :\n",
        "b = \"Hello, World!\"\n",
        "print(b[2:5])\n",
        "#Dapatkan karakter dari posisi 2 ke posisi 5 (tidak termasuk):"
      ],
      "execution_count": null,
      "outputs": [
        {
          "output_type": "stream",
          "text": [
            "llo\n"
          ],
          "name": "stdout"
        }
      ]
    },
    {
      "cell_type": "markdown",
      "metadata": {
        "id": "tvz7WZHdKQgH"
      },
      "source": [
        "Expected output:\n",
        "```\n",
        "llo\n",
        "```"
      ]
    },
    {
      "cell_type": "code",
      "metadata": {
        "id": "M4geTGseYgmQ",
        "colab": {
          "base_uri": "https://localhost:8080/"
        },
        "outputId": "05184fb2-6230-45da-9cc5-a697a001efa9"
      },
      "source": [
        "#Mulai Program mu....^_^\n",
        "i = \"linaangra\"\n",
        "print(i[1:3])\n",
        "#Dapatkan karakter dari posisi 2 ke posisi 5 (tidak termasuk):"
      ],
      "execution_count": 44,
      "outputs": [
        {
          "output_type": "stream",
          "text": [
            "in\n"
          ],
          "name": "stdout"
        }
      ]
    },
    {
      "cell_type": "markdown",
      "metadata": {
        "id": "2LQPMzQAKilR"
      },
      "source": [
        "## *Negative Indexing*\n",
        "Gunakan indeks negatif untuk memulai potongan dari ujung string:"
      ]
    },
    {
      "cell_type": "code",
      "metadata": {
        "id": "n2yD3tJ4LG93",
        "colab": {
          "base_uri": "https://localhost:8080/"
        },
        "outputId": "95976fc5-4f9e-4ce3-8405-479f5920503f"
      },
      "source": [
        "#Contoh\n",
        "b = \"Hello, World!\"\n",
        "print(b[-5:-2])\n",
        "#Dapatkan karakter dari posisi 5 ke posisi 1 (tidak termasuk), mulai hitungan dari akhir string:"
      ],
      "execution_count": null,
      "outputs": [
        {
          "output_type": "stream",
          "text": [
            "orl\n"
          ],
          "name": "stdout"
        }
      ]
    },
    {
      "cell_type": "markdown",
      "metadata": {
        "id": "nlzaUPw2Mkwr"
      },
      "source": [
        "Expected output:\n",
        "```\n",
        "orl\n",
        "```"
      ]
    },
    {
      "cell_type": "code",
      "metadata": {
        "id": "InprXyehZUUk",
        "colab": {
          "base_uri": "https://localhost:8080/"
        },
        "outputId": "ad57a93a-2e27-4192-ee8f-7974790557c4"
      },
      "source": [
        "#Mulai Program mu....^_^\n",
        "u = \"assalamualaikum sayang\"\n",
        "print(u[-6:-3])\n",
        "#Dapatkan karakter dari posisi 5 ke posisi 1 (tidak termasuk), mulai hitungan dari akhir string:"
      ],
      "execution_count": 34,
      "outputs": [
        {
          "output_type": "stream",
          "text": [
            "say\n"
          ],
          "name": "stdout"
        }
      ]
    },
    {
      "cell_type": "code",
      "metadata": {
        "id": "A7Z1cnl2ekma",
        "colab": {
          "base_uri": "https://localhost:8080/"
        },
        "outputId": "42d1012d-229a-485e-ae00-cb485fcb718c"
      },
      "source": [
        "#Contoh\n",
        "a = \"Hello, World!\"\n",
        "print(len(a))\n",
        "#Fungsi len () mengembalikan panjang string:"
      ],
      "execution_count": null,
      "outputs": [
        {
          "output_type": "stream",
          "text": [
            "13\n"
          ],
          "name": "stdout"
        }
      ]
    },
    {
      "cell_type": "markdown",
      "metadata": {
        "id": "I7o2xNSJpQxD"
      },
      "source": [
        "Expected Output :\n",
        "```\n",
        "13\n",
        "```"
      ]
    },
    {
      "cell_type": "code",
      "metadata": {
        "id": "-axqRlaqZY8x",
        "colab": {
          "base_uri": "https://localhost:8080/"
        },
        "outputId": "47b3cef2-20b7-4778-8473-5698a843a40a"
      },
      "source": [
        "#Mulai Program mu....^_^\n",
        "l = \"semangat y\"\n",
        "print(len(l))\n",
        "#Fungsi len () mengembalikan panjang string:"
      ],
      "execution_count": 43,
      "outputs": [
        {
          "output_type": "stream",
          "text": [
            "10\n"
          ],
          "name": "stdout"
        }
      ]
    },
    {
      "cell_type": "markdown",
      "metadata": {
        "id": "kIXBHAk3f_KI"
      },
      "source": [
        "## *Check String*\n",
        "Untuk memeriksa apakah frase atau karakter tertentu ada dalam sebuah string, kita dapat menggunakan kata kunci in atau not in"
      ]
    },
    {
      "cell_type": "code",
      "metadata": {
        "id": "aHqLK3vHfzQS",
        "colab": {
          "base_uri": "https://localhost:8080/"
        },
        "outputId": "9086378c-64cc-4a97-ae19-2b7e6c67a7b1"
      },
      "source": [
        "#Contoh 1\n",
        "#Periksa apakah frase \"ain\" ada dalam teks berikut:\n",
        "txt = \"Hujan di Spanyol umumnya tetap di dataran\"\n",
        "x = \"jan\" in txt\n",
        "print(x)"
      ],
      "execution_count": null,
      "outputs": [
        {
          "output_type": "stream",
          "text": [
            "True\n"
          ],
          "name": "stdout"
        }
      ]
    },
    {
      "cell_type": "markdown",
      "metadata": {
        "id": "EvjnqufLpcwD"
      },
      "source": [
        "Expected Output :\n",
        "```\n",
        "True\n",
        "```"
      ]
    },
    {
      "cell_type": "code",
      "metadata": {
        "id": "oXIdUm4lZk0b",
        "colab": {
          "base_uri": "https://localhost:8080/"
        },
        "outputId": "c8d18435-84d6-4de1-dff7-b4320aabcd94"
      },
      "source": [
        "#Mulai Program mu....^_^\n",
        "#Periksa apakah frase \"ain\" ada dalam teks berikut:\n",
        "txt = \"tidakkah cukup yang engkau lihat pertemanan ini sungguh berat\"\n",
        "l = \"kah\" in txt\n",
        "print(l)"
      ],
      "execution_count": 37,
      "outputs": [
        {
          "output_type": "stream",
          "text": [
            "True\n"
          ],
          "name": "stdout"
        }
      ]
    },
    {
      "cell_type": "code",
      "metadata": {
        "id": "fgyz-8kHgiC8",
        "colab": {
          "base_uri": "https://localhost:8080/"
        },
        "outputId": "77686e1f-a308-47e7-9419-7aa5b33f2dab"
      },
      "source": [
        "#Contoh\n",
        "#Periksa apakah frase \"ain\" TIDAK ada dalam teks berikut:\n",
        "txt = \"Hujan di Spanyol umumnya tetap di dataran\"\n",
        "x = \"jan\" not in txt\n",
        "print(x) "
      ],
      "execution_count": null,
      "outputs": [
        {
          "output_type": "stream",
          "text": [
            "False\n"
          ],
          "name": "stdout"
        }
      ]
    },
    {
      "cell_type": "markdown",
      "metadata": {
        "id": "gEzY_18PplCV"
      },
      "source": [
        "Expected Output :\n",
        "```\n",
        "False\n",
        "```"
      ]
    },
    {
      "cell_type": "code",
      "metadata": {
        "id": "3xsC0rt2ZrPa",
        "colab": {
          "base_uri": "https://localhost:8080/"
        },
        "outputId": "c6c34075-9d55-4ae2-92e8-793fd90c584c"
      },
      "source": [
        "#Mulai Program mu....^_^\n",
        "#Periksa apakah frase \"ain\" TIDAK ada dalam teks berikut:\n",
        "txt = \"bukankah indah bila kita bersama tapi tidak dimimpi saja\"\n",
        "c = \"kah\" not in txt\n",
        "print(c) "
      ],
      "execution_count": 38,
      "outputs": [
        {
          "output_type": "stream",
          "text": [
            "False\n"
          ],
          "name": "stdout"
        }
      ]
    },
    {
      "cell_type": "markdown",
      "metadata": {
        "id": "whJkJ80wg4ri"
      },
      "source": [
        "## *String Concatenation*\n",
        "Untuk menggabungkan, atau menggabungkan, dua string Anda dapat menggunakan operator +."
      ]
    },
    {
      "cell_type": "code",
      "metadata": {
        "id": "KcheDEPZhEUn",
        "colab": {
          "base_uri": "https://localhost:8080/"
        },
        "outputId": "53d9a386-6864-4ce1-8494-2ae482e60a1b"
      },
      "source": [
        "#Contoh\n",
        "#Gabungkan variabel a dengan variabel b menjadi variabel c\n",
        "a = \"Hello\"\n",
        "b = \"World\"\n",
        "c = a + b\n",
        "print(c)"
      ],
      "execution_count": null,
      "outputs": [
        {
          "output_type": "stream",
          "text": [
            "HelloWorld\n"
          ],
          "name": "stdout"
        }
      ]
    },
    {
      "cell_type": "markdown",
      "metadata": {
        "id": "yzB_x6uvsgIx"
      },
      "source": [
        "Output :\n",
        "```\n",
        "HelloWorld\n",
        "```"
      ]
    },
    {
      "cell_type": "code",
      "metadata": {
        "id": "G0GMGTBgZ-f6",
        "colab": {
          "base_uri": "https://localhost:8080/"
        },
        "outputId": "a42db1d0-8e2a-4ab2-bc45-fb558e33919f"
      },
      "source": [
        "#Mulai Program mu....^_^\n",
        "#Gabungkan variabel a dengan variabel b menjadi variabel c\n",
        "l = \"singkat\"\n",
        "f = \"jelas\"\n",
        "m = l + f\n",
        "print(m)"
      ],
      "execution_count": 41,
      "outputs": [
        {
          "output_type": "stream",
          "text": [
            "singkatjelas\n"
          ],
          "name": "stdout"
        }
      ]
    },
    {
      "cell_type": "code",
      "metadata": {
        "id": "_WYRHkRthc-y",
        "colab": {
          "base_uri": "https://localhost:8080/"
        },
        "outputId": "75577c13-0a42-4a69-e3bc-825e2e14e21f"
      },
      "source": [
        "#Contoh\n",
        "#Untuk menambahkan spasi di antara keduanya, tambahkan \" \":\n",
        "a = \"Hello\"\n",
        "b = \"World\"\n",
        "c = a + \" \" + b\n",
        "print(c)"
      ],
      "execution_count": null,
      "outputs": [
        {
          "output_type": "stream",
          "text": [
            "Hello World\n"
          ],
          "name": "stdout"
        }
      ]
    },
    {
      "cell_type": "markdown",
      "metadata": {
        "id": "UgWS9_39stHi"
      },
      "source": [
        "Output :\n",
        "```\n",
        "Hello World\n",
        "```"
      ]
    },
    {
      "cell_type": "code",
      "metadata": {
        "id": "tgMo3eBoaE5r",
        "colab": {
          "base_uri": "https://localhost:8080/"
        },
        "outputId": "3a3b34d1-205f-4e1d-fdd0-b495d839832f"
      },
      "source": [
        "#Mulai Program mu....\n",
        "#Untuk menambahkan spasi di antara keduanya, tambahkan \" \":\n",
        "l = \"singkat\"\n",
        "g = \"padat\"\n",
        "s = l + \" \" + g\n",
        "print(s)"
      ],
      "execution_count": 40,
      "outputs": [
        {
          "output_type": "stream",
          "text": [
            "singkat padat\n"
          ],
          "name": "stdout"
        }
      ]
    },
    {
      "cell_type": "markdown",
      "metadata": {
        "id": "4Fhyimgde2Mn"
      },
      "source": [
        "##**String Format**\n",
        "####Seperti yang kita pelajari di bab Variabel Python, kita tidak bisa menggabungkan string dan angka seperti ini:"
      ]
    },
    {
      "cell_type": "code",
      "metadata": {
        "id": "7L6XBNLejHsT",
        "colab": {
          "base_uri": "https://localhost:8080/"
        },
        "outputId": "2199a578-5a7f-4d90-9c77-fa8afb64d772"
      },
      "source": [
        "#Contoh\n",
        "umur = \"20\"\n",
        "txt = \"Nama saya Mujhid, saya \" + umur\n",
        "print(txt)"
      ],
      "execution_count": null,
      "outputs": [
        {
          "output_type": "stream",
          "text": [
            "Nama saya Mujhid, saya 20\n"
          ],
          "name": "stdout"
        }
      ]
    },
    {
      "cell_type": "markdown",
      "metadata": {
        "id": "IyDYFm-5s4w8"
      },
      "source": [
        "Output :\n",
        "```\n",
        "Nama saya Mujhid, saya 20\n",
        "```"
      ]
    },
    {
      "cell_type": "code",
      "metadata": {
        "id": "LgpFaLEyUHF_",
        "outputId": "6048560a-4634-4caf-961d-0895e4e0fb3b",
        "colab": {
          "base_uri": "https://localhost:8080/"
        }
      },
      "source": [
        "hobby = \"sayang kedua orangtuaku\"\n",
        "txt = \"Aku lina, aku \" + hobby\n",
        "print(txt)"
      ],
      "execution_count": 48,
      "outputs": [
        {
          "output_type": "stream",
          "text": [
            "Aku lina, aku sayang kedua orangtuaku\n"
          ],
          "name": "stdout"
        }
      ]
    },
    {
      "cell_type": "markdown",
      "metadata": {
        "id": "xMzqxUejkZrt"
      },
      "source": [
        "Tapi kita bisa menggabungkan string dan angka dengan menggunakan metode format ()!\n",
        "\n",
        "Metode format () mengambil argumen yang diteruskan, memformatnya, dan menempatkannya dalam string di mana placeholder {} berada:"
      ]
    },
    {
      "cell_type": "markdown",
      "metadata": {
        "id": "-7gLLgzqe2Mx"
      },
      "source": [
        "# *Berbagai Method untuk String pada Python*\n",
        "\n",
        "Python memiliki seperangkat metode bawaan yang dapat Anda gunakan pada string."
      ]
    },
    {
      "cell_type": "markdown",
      "metadata": {
        "id": "P8NnekdTGMh9"
      },
      "source": [
        "### Strip()\n",
        "\n",
        "Method strip() berfungsi untuk menghapus spasi apa pun dari awal atau akhir"
      ]
    },
    {
      "cell_type": "code",
      "metadata": {
        "id": "adhHBCCIfCRV",
        "colab": {
          "base_uri": "https://localhost:8080/"
        },
        "outputId": "be4158e1-c9ea-4ca3-af38-669508461bc7"
      },
      "source": [
        "#Contoh\n",
        "a = \" Hello, World! \"\n",
        "print(a.strip()) # returns \"Hello, World!\""
      ],
      "execution_count": null,
      "outputs": [
        {
          "output_type": "stream",
          "text": [
            "Hello, World!\n"
          ],
          "name": "stdout"
        }
      ]
    },
    {
      "cell_type": "markdown",
      "metadata": {
        "id": "Qeo6pBGotbxk"
      },
      "source": [
        "Output :\n",
        "```\n",
        "Hello, World!\n",
        "```"
      ]
    },
    {
      "cell_type": "code",
      "metadata": {
        "id": "bnhTYGQEAytD",
        "colab": {
          "base_uri": "https://localhost:8080/"
        },
        "outputId": "7166a042-03c3-4705-eb8a-d586a79a361b"
      },
      "source": [
        "#Mulai Program Mu....\n",
        "a = \" kusuka dirinya mungkin aku sayang namun apakah mungkin kau menjadi milikku \"\n",
        "print(a.strip()) # returns \"kusuka dirinya mungkin aku sayang namun apakah mungkin kau menjadi milikku\""
      ],
      "execution_count": 46,
      "outputs": [
        {
          "output_type": "stream",
          "text": [
            "kusuka dirinya mungkin aku sayang namun apakah mungkin kau menjadi milikku\n"
          ],
          "name": "stdout"
        }
      ]
    },
    {
      "cell_type": "markdown",
      "metadata": {
        "id": "y-DOox5dndFL"
      },
      "source": [
        "###Lower()\n",
        "#####Metode lower () mengembalikan string dalam huruf kecil:"
      ]
    },
    {
      "cell_type": "code",
      "metadata": {
        "id": "D_ST04cMewvV",
        "colab": {
          "base_uri": "https://localhost:8080/"
        },
        "outputId": "55e3744e-6307-4763-832f-3a094337b431"
      },
      "source": [
        "#Contoh\n",
        "a = \"HELLO, World!\"\n",
        "print(a.lower())"
      ],
      "execution_count": null,
      "outputs": [
        {
          "output_type": "stream",
          "text": [
            "hello, world!\n"
          ],
          "name": "stdout"
        }
      ]
    },
    {
      "cell_type": "markdown",
      "metadata": {
        "id": "4rtfR-MQtv1z"
      },
      "source": [
        "Output :\n",
        "```\n",
        "hello, world!\n",
        "```"
      ]
    },
    {
      "cell_type": "code",
      "metadata": {
        "id": "kW24ojWDV83B",
        "outputId": "310cd4cc-34a3-49cb-c04d-24fdd28a3e99",
        "colab": {
          "base_uri": "https://localhost:8080/"
        }
      },
      "source": [
        "l = \"astaghfirullah\"\n",
        "print(l.lower())"
      ],
      "execution_count": 49,
      "outputs": [
        {
          "output_type": "stream",
          "text": [
            "astaghfirullah\n"
          ],
          "name": "stdout"
        }
      ]
    },
    {
      "cell_type": "markdown",
      "metadata": {
        "id": "goEziMRaop2n"
      },
      "source": [
        "###Upper()\n",
        "#####Metode upper() mengembalikan string dalam huruf besar:"
      ]
    },
    {
      "cell_type": "code",
      "metadata": {
        "id": "tORVzIurfiyq",
        "colab": {
          "base_uri": "https://localhost:8080/"
        },
        "outputId": "791a726a-3de2-413f-f489-7984ba6e3548"
      },
      "source": [
        "#Contoh\n",
        "a = \"Hello, World!\"\n",
        "print(a.upper())"
      ],
      "execution_count": null,
      "outputs": [
        {
          "output_type": "stream",
          "text": [
            "HELLO, WORLD!\n"
          ],
          "name": "stdout"
        }
      ]
    },
    {
      "cell_type": "markdown",
      "metadata": {
        "id": "1d7SQJ3zt6M-"
      },
      "source": [
        "Output :\n",
        "```\n",
        "HELLO, WORLD!\n",
        "```"
      ]
    },
    {
      "cell_type": "code",
      "metadata": {
        "id": "DD2KGk27WLq-",
        "outputId": "b1739558-d2c5-4e4a-8e83-f238216b1cb4",
        "colab": {
          "base_uri": "https://localhost:8080/"
        }
      },
      "source": [
        "y = \"boyokku pegel :(\"\n",
        "print(y.upper())"
      ],
      "execution_count": 51,
      "outputs": [
        {
          "output_type": "stream",
          "text": [
            "BOYOKKU PEGEL :(\n"
          ],
          "name": "stdout"
        }
      ]
    },
    {
      "cell_type": "markdown",
      "metadata": {
        "id": "p_8BudcBuNRK"
      },
      "source": [
        "###Replace()\n",
        "#####Metode replace () menggantikan string dengan string lain:"
      ]
    },
    {
      "cell_type": "code",
      "metadata": {
        "id": "KRCtERX-fsRL",
        "colab": {
          "base_uri": "https://localhost:8080/"
        },
        "outputId": "25ba4862-89c1-4db1-a36d-8229e185d50e"
      },
      "source": [
        "#Contoh\n",
        "a = \"Hello, World!\"\n",
        "print(a.replace(\"H\", \"J\"))"
      ],
      "execution_count": null,
      "outputs": [
        {
          "output_type": "stream",
          "text": [
            "Jello, World!\n"
          ],
          "name": "stdout"
        }
      ]
    },
    {
      "cell_type": "markdown",
      "metadata": {
        "id": "HoBM7TssuDC0"
      },
      "source": [
        "Output :\n",
        "```\n",
        "Jello, World!\n",
        "```"
      ]
    },
    {
      "cell_type": "code",
      "metadata": {
        "id": "HlEXw5GxWhap",
        "outputId": "c768eb07-1355-4bae-c690-4fa19164814a",
        "colab": {
          "base_uri": "https://localhost:8080/"
        }
      },
      "source": [
        "l = \"anta ka loro hahaha\"\n",
        "print(l.replace(\"a\", \"u\"))"
      ],
      "execution_count": 54,
      "outputs": [
        {
          "output_type": "stream",
          "text": [
            "untu ku loro huhuhu\n"
          ],
          "name": "stdout"
        }
      ]
    },
    {
      "cell_type": "markdown",
      "metadata": {
        "id": "HENcWNGouzZQ"
      },
      "source": [
        "###Split()\n",
        "#####Metode split () membagi string menjadi beberapa substring jika menemukan contoh pemisah:"
      ]
    },
    {
      "cell_type": "code",
      "metadata": {
        "id": "lZOPF8zNfzUz",
        "colab": {
          "base_uri": "https://localhost:8080/"
        },
        "outputId": "3d5cb1a1-f7df-47e9-f20a-b8adbd244ac4"
      },
      "source": [
        "#Contoh\n",
        "a = \"Hello, World!\"\n",
        "print(a.split(\",\")) # returns ['Hello', ' World!']"
      ],
      "execution_count": null,
      "outputs": [
        {
          "output_type": "stream",
          "text": [
            "['Hello', ' World!']\n"
          ],
          "name": "stdout"
        }
      ]
    },
    {
      "cell_type": "markdown",
      "metadata": {
        "id": "7nCtdk1Du-m8"
      },
      "source": [
        "Output :\n",
        "```\n",
        "['Hello', ' World!']\n",
        "```"
      ]
    },
    {
      "cell_type": "code",
      "metadata": {
        "id": "Po8q1rJeXVof",
        "outputId": "d7f95b59-31f4-4cac-f723-2d3fb64b8496",
        "colab": {
          "base_uri": "https://localhost:8080/"
        }
      },
      "source": [
        "l = \"assalamualaikum sayangku\"\n",
        "print(l.split(\",\")) # returns ['assalamualaikum', ' sayangku']"
      ],
      "execution_count": 55,
      "outputs": [
        {
          "output_type": "stream",
          "text": [
            "['assalamualaikum sayangku']\n"
          ],
          "name": "stdout"
        }
      ]
    },
    {
      "cell_type": "markdown",
      "metadata": {
        "id": "TaxVOjwbvc6k"
      },
      "source": [
        "###Capitalize()\n",
        "#####Metode capitalize () menggantikan karakter pertama menjadi huruf apital"
      ]
    },
    {
      "cell_type": "code",
      "metadata": {
        "id": "AKCjwL5pu6uA",
        "colab": {
          "base_uri": "https://localhost:8080/"
        },
        "outputId": "47e59737-d699-4919-8f85-5806242ba29a"
      },
      "source": [
        "#Contoh\n",
        "a = \"hello, world\"\n",
        "print(a.capitalize())"
      ],
      "execution_count": null,
      "outputs": [
        {
          "output_type": "stream",
          "text": [
            "Hello, world\n"
          ],
          "name": "stdout"
        }
      ]
    },
    {
      "cell_type": "markdown",
      "metadata": {
        "id": "2aTzRqgzwcd-"
      },
      "source": [
        "Output :\n",
        "```\n",
        "Hello, world\n",
        "```"
      ]
    },
    {
      "cell_type": "code",
      "metadata": {
        "id": "R4DhkwNPXvc6",
        "outputId": "90aa44da-8524-4283-8ea6-dccc445e8168",
        "colab": {
          "base_uri": "https://localhost:8080/"
        }
      },
      "source": [
        "g = \"assalamualaikum tugas ku sayang\"\n",
        "print(g.capitalize())"
      ],
      "execution_count": 56,
      "outputs": [
        {
          "output_type": "stream",
          "text": [
            "Assalamualaikum tugas ku sayang\n"
          ],
          "name": "stdout"
        }
      ]
    },
    {
      "cell_type": "markdown",
      "metadata": {
        "id": "lFk8jkgTw7Qc"
      },
      "source": [
        "###Casefold()\n",
        "#####Metode casefold () Mengubah string menjadi huruf kecil"
      ]
    },
    {
      "cell_type": "code",
      "metadata": {
        "id": "rqUVI0_QwQ9M",
        "colab": {
          "base_uri": "https://localhost:8080/"
        },
        "outputId": "c1e88684-63c3-4dfe-bbec-34fad0c107b8"
      },
      "source": [
        "#Contoh\n",
        "a = \"Hello, World\"\n",
        "print(a.casefold())"
      ],
      "execution_count": null,
      "outputs": [
        {
          "output_type": "stream",
          "text": [
            "hello, world\n"
          ],
          "name": "stdout"
        }
      ]
    },
    {
      "cell_type": "code",
      "metadata": {
        "id": "lGkp21nsX6Jj",
        "outputId": "7a5fef4d-63ee-4c84-96d2-05688183c06e",
        "colab": {
          "base_uri": "https://localhost:8080/"
        }
      },
      "source": [
        "s = \"boyokku loro serius (':\"\n",
        "print(s.casefold())"
      ],
      "execution_count": 57,
      "outputs": [
        {
          "output_type": "stream",
          "text": [
            "boyokku loro serius (':\n"
          ],
          "name": "stdout"
        }
      ]
    },
    {
      "cell_type": "markdown",
      "metadata": {
        "id": "uOJqg_Hhx7jM"
      },
      "source": [
        "###Count()\n",
        "#####Metode count () Mengembalikan frekuensi nilai yang ditentukan muncul dalam string"
      ]
    },
    {
      "cell_type": "code",
      "metadata": {
        "id": "X0BxqrG6zC3j",
        "colab": {
          "base_uri": "https://localhost:8080/"
        },
        "outputId": "e210ca57-02fa-4888-a6c5-9495ff3f2ce0"
      },
      "source": [
        "# definiskan string\n",
        "string = \"Python is awesome, isn't it?\"\n",
        "substring = \"is\"\n",
        "\n",
        "count = string.count(substring)\n",
        "\n",
        "# print count\n",
        "print(\"Jumlah :\", count)"
      ],
      "execution_count": null,
      "outputs": [
        {
          "output_type": "stream",
          "text": [
            "Jumlah : 2\n"
          ],
          "name": "stdout"
        }
      ]
    },
    {
      "cell_type": "markdown",
      "metadata": {
        "id": "c-107cVfCt-f"
      },
      "source": [
        "Output :\n",
        "```\n",
        "Jumlah : 2\n",
        "```"
      ]
    },
    {
      "cell_type": "code",
      "metadata": {
        "id": "890hwK4AYrKA",
        "outputId": "57b0a756-d2a5-49b4-d515-1b01a272636c",
        "colab": {
          "base_uri": "https://localhost:8080/"
        }
      },
      "source": [
        "# definiskan string\n",
        "string = \"layangan sing tatas tanda tresnoku wes pungkas mabur duwur ngalang-alang yen tibo dadi kenangan\"\n",
        "substring = \"tatas\"\n",
        "\n",
        "count = string.count(substring)\n",
        "\n",
        "# print count\n",
        "print(\"Jumlah :\", count)"
      ],
      "execution_count": 58,
      "outputs": [
        {
          "output_type": "stream",
          "text": [
            "Jumlah : 1\n"
          ],
          "name": "stdout"
        }
      ]
    },
    {
      "cell_type": "markdown",
      "metadata": {
        "id": "TK1BWNfmNmg9"
      },
      "source": [
        "###Encode()\n",
        "#####Metode encode () mengembalikan string yang berada di tengah"
      ]
    },
    {
      "cell_type": "code",
      "metadata": {
        "id": "Z3vdoZsq76n7",
        "colab": {
          "base_uri": "https://localhost:8080/"
        },
        "outputId": "0eb582a8-7e15-40c9-d544-722c923e7767"
      },
      "source": [
        "a = \"My name is Mujhid\"\n",
        "\n",
        "x = a.encode()\n",
        "\n",
        "print(x)"
      ],
      "execution_count": null,
      "outputs": [
        {
          "output_type": "stream",
          "text": [
            "b'My name is Mujhid'\n"
          ],
          "name": "stdout"
        }
      ]
    },
    {
      "cell_type": "code",
      "metadata": {
        "id": "8Qtf3u_qZFrY",
        "outputId": "e4ef2e05-9ee1-413b-9715-5826df77bdee",
        "colab": {
          "base_uri": "https://localhost:8080/"
        }
      },
      "source": [
        "l = \"Jajan yok\"\n",
        "\n",
        "g = l.encode()\n",
        "\n",
        "print(g)"
      ],
      "execution_count": 59,
      "outputs": [
        {
          "output_type": "stream",
          "text": [
            "b'Jajan yok'\n"
          ],
          "name": "stdout"
        }
      ]
    },
    {
      "cell_type": "markdown",
      "metadata": {
        "id": "qPgAcs3q03rJ"
      },
      "source": [
        "###Swapcase()\n",
        "#####Metode swapcase () untuk menukar kasus, huruf kecil menjadi huruf besar dan sebaliknya"
      ]
    },
    {
      "cell_type": "code",
      "metadata": {
        "id": "1aogmteyOBqW",
        "colab": {
          "base_uri": "https://localhost:8080/"
        },
        "outputId": "a691aedf-701f-49f8-b5a0-bc283d98d8f3"
      },
      "source": [
        "a = \"My Name is Mujhid\"\n",
        "\n",
        "x = a.swapcase()\n",
        "\n",
        "print(x)"
      ],
      "execution_count": null,
      "outputs": [
        {
          "output_type": "stream",
          "text": [
            "mY nAME IS mUJHID\n"
          ],
          "name": "stdout"
        }
      ]
    },
    {
      "cell_type": "markdown",
      "metadata": {
        "id": "NygjfmV-GP04"
      },
      "source": [
        "Output :\n",
        "```\n",
        "mY nAME IS mUJHID\n",
        "```"
      ]
    },
    {
      "cell_type": "code",
      "metadata": {
        "id": "BloCxn94ZTZ0",
        "outputId": "60174a8a-56cd-4c2c-ed15-a982233df29f",
        "colab": {
          "base_uri": "https://localhost:8080/"
        }
      },
      "source": [
        "x = \"tresno ning njero dada sing tak jaluk imbangono\"\n",
        "\n",
        "y = x.swapcase()\n",
        "\n",
        "print(x)"
      ],
      "execution_count": 60,
      "outputs": [
        {
          "output_type": "stream",
          "text": [
            "tresno ning njero dada sing tak jaluk imbangono\n"
          ],
          "name": "stdout"
        }
      ]
    },
    {
      "cell_type": "markdown",
      "metadata": {
        "id": "1bnoscP55UBZ"
      },
      "source": [
        "\n",
        "\n",
        "---\n",
        "\n",
        "\n",
        "# **Dictionary Pada Python**\n",
        "\n",
        "\n",
        "---\n",
        "\n",
        "\n",
        "Berbeda dengan List dan Tuple, didalam Dictionary Python setiap urutanya berisi key dan value yang bersifat tidak berurutan. \n",
        "1. Setiap key dipisahkan dari value-nya oleh titik dua (:)\n",
        "2. item dipisahkan oleh koma, dan semuanya tertutup dalam kurung kurawal. \n",
        "3. Dictionary kosong tanpa barang ditulis hanya dengan dua kurung kurawal, seperti ini: {}."
      ]
    },
    {
      "cell_type": "markdown",
      "metadata": {
        "id": "Qqi7EOUv8QlF"
      },
      "source": [
        "**Contoh 1:**\n"
      ]
    },
    {
      "cell_type": "code",
      "metadata": {
        "id": "9frE3t3c-VL5",
        "colab": {
          "base_uri": "https://localhost:8080/"
        },
        "outputId": "8c36d665-ffa2-445f-e30e-6ec7cc821b93"
      },
      "source": [
        "dict= {'Universitas' : 'UAD' , 'Prodi' : 'Matematika' , 'Tahun' : 2018 , 'NIM' : 180015065}\n",
        "print(type(dict))"
      ],
      "execution_count": null,
      "outputs": [
        {
          "output_type": "stream",
          "text": [
            "<class 'dict'>\n"
          ],
          "name": "stdout"
        }
      ]
    },
    {
      "cell_type": "markdown",
      "metadata": {
        "id": "cpN9v_hTCQ6w"
      },
      "source": [
        "Yuk coba buat dictionary kamu :)"
      ]
    },
    {
      "cell_type": "code",
      "metadata": {
        "id": "XGAZx3QiCWtQ",
        "colab": {
          "base_uri": "https://localhost:8080/"
        },
        "outputId": "0d8db63a-8bec-4cdf-b1dd-bf0a0d605b98"
      },
      "source": [
        "#Membuat directory\n",
        "dict= {'Lina' : 'Angraeni' , 'Ramah' : 'Baik' , 'Sholehah' : 'anak' , 'ciapa' : 'ciwwww'}\n",
        "print(type(dict))"
      ],
      "execution_count": 61,
      "outputs": [
        {
          "output_type": "stream",
          "text": [
            "<class 'dict'>\n"
          ],
          "name": "stdout"
        }
      ]
    },
    {
      "cell_type": "markdown",
      "metadata": {
        "id": "wiTUsNTSAq-f"
      },
      "source": [
        "## Mengakses Nilai pada Dictionary\n",
        "Untuk mengakses elemen Dictionary, dapat menggunakan kurung siku yang berisi key ['key'] untuk mendapatkan value yang diinginkan."
      ]
    },
    {
      "cell_type": "code",
      "metadata": {
        "id": "B7K8CmX4BxV6",
        "colab": {
          "base_uri": "https://localhost:8080/"
        },
        "outputId": "e2d2fdf5-78a6-4823-a066-27121e9627d7"
      },
      "source": [
        "dict= {'Universitas' : 'UAD' , 'Prodi' : 'Matematika' , 'Tahun' : 2018 , 1800015065 : 'NIM'}\n",
        "print(type(dict))\n",
        "print(\"dict['Universitas'] = \", dict['Universitas'])\n",
        "print(\"dict['Prodi'] =\", dict['Prodi'])\n",
        "print(\"dict['Tahun'] =\", dict['Tahun'])\n",
        "print(\"dict[1800015065] = \", dict[1800015065])"
      ],
      "execution_count": null,
      "outputs": [
        {
          "output_type": "stream",
          "text": [
            "<class 'dict'>\n",
            "dict['Universitas'] =  UAD\n",
            "dict['Prodi'] = Matematika\n",
            "dict['Tahun'] = 2018\n",
            "dict[1800015065] =  NIM\n"
          ],
          "name": "stdout"
        }
      ]
    },
    {
      "cell_type": "markdown",
      "metadata": {
        "id": "0Ko2w5YXCeUH"
      },
      "source": [
        "Nah sekarang coba akses nilai di dictionary kamu, go go go"
      ]
    },
    {
      "cell_type": "code",
      "metadata": {
        "id": "zMOqnpFtCtBc",
        "colab": {
          "base_uri": "https://localhost:8080/"
        },
        "outputId": "2df3a729-71f0-4a5a-cf58-627f13bd1195"
      },
      "source": [
        "#Mengakses nilai directory\n",
        "dict= {'Ku' : 'Ikhlas' , 'Aku' : 'Pasrah' , 'Wes' : 'Tak Ngalah' }\n",
        "print(type(dict))\n",
        "print(\"dict['Ku'] = \", dict['Ku'])\n",
        "print(\"dict['Aku'] =\", dict['Aku'])\n",
        "print(\"dict['Wes'] =\", dict['Wes'])"
      ],
      "execution_count": 65,
      "outputs": [
        {
          "output_type": "stream",
          "text": [
            "<class 'dict'>\n",
            "dict['Ku'] =  Ikhlas\n",
            "dict['Aku'] = Pasrah\n",
            "dict['Wes'] = Tak Ngalah\n"
          ],
          "name": "stdout"
        }
      ]
    },
    {
      "cell_type": "markdown",
      "metadata": {
        "id": "UzGJBTYWF9Wz"
      },
      "source": [
        "## Mengubah Nilai pada Dictionary\n",
        "Anda dapat memperbarui Dictionary dengan menambahkan entri baru atau pasangan nilai kunci, memodifikasi entri yang ada, atau menghapus entri yang ada"
      ]
    },
    {
      "cell_type": "code",
      "metadata": {
        "id": "ZkMuE6xJGGzq",
        "colab": {
          "base_uri": "https://localhost:8080/"
        },
        "outputId": "15ea15d4-0855-4fd0-d183-455b5f47ec15"
      },
      "source": [
        "dict= {'Universitas' : 'UAD' , 'Prodi' : 'Matematika' , 'Tahun' : 2018 , 1800015065 : 'NIM'}\n",
        "dict[1800015065] = 'Bukan NIM' #Mengubah entri atau value yang sudah ada\n",
        "dict['Universitas'] = 'UGM' #Menambah entri atau value\n",
        "print(\"dict[1800015065] =\", dict[1800015065]);\n",
        "print(\"dict['Universitas'] =\", dict['Universitas']);"
      ],
      "execution_count": 68,
      "outputs": [
        {
          "output_type": "stream",
          "text": [
            "dict[1800015065] = Bukan NIM\n",
            "dict['Universitas'] = UGM\n"
          ],
          "name": "stdout"
        }
      ]
    },
    {
      "cell_type": "code",
      "metadata": {
        "id": "daYYLeFVb26O",
        "outputId": "43c411d6-5a2c-45ba-f087-21f2bd784332",
        "colab": {
          "base_uri": "https://localhost:8080/"
        }
      },
      "source": [
        "dict= {'Ice Cream Nasi Padang check' : 'Hari ini' , 'Aku' : 'dan Adikku' , 'Mau' : 'Bikin Ice Cream Rasa Nasi Padang'}\n",
        "dict['Bikin Ice Cream Rasa Nasi Padang'] = 'Ga Mau' #Mengubah entri atau value yang sudah ada\n",
        "dict['Ice Cream Nasi Padang check'] = 'Hari ini' #Menambah entri atau value\n",
        "print(\"dict['Bikin Ice Cream Rasa Nasi Padang'] =\", dict['Bikin Ice Cream Rasa Nasi Padang']);\n",
        "print(\"dict['Ice Cream Nasi Padang check'] =\", dict['Ice Cream Nasi Padang check']);"
      ],
      "execution_count": 66,
      "outputs": [
        {
          "output_type": "stream",
          "text": [
            "dict['Bikin Ice Cream Rasa Nasi Padang'] = Ga Mau\n",
            "dict['Ice Cream Nasi Padang check'] = Hari ini\n"
          ],
          "name": "stdout"
        }
      ]
    },
    {
      "cell_type": "code",
      "metadata": {
        "id": "vX3rYRdjL6GF",
        "colab": {
          "base_uri": "https://localhost:8080/"
        },
        "outputId": "706810e1-55f4-4194-eb49-216110e43755"
      },
      "source": [
        "thisdict = {\n",
        "    \"brand\" : \"Toyota\",\n",
        "    \"model\" : \"Kijang\",\n",
        "    \"year\" : 2004\n",
        "}\n",
        "print(thisdict)"
      ],
      "execution_count": null,
      "outputs": [
        {
          "output_type": "stream",
          "text": [
            "{'brand': 'Toyota', 'model': 'Kijang', 'year': 2004}\n"
          ],
          "name": "stdout"
        }
      ]
    },
    {
      "cell_type": "code",
      "metadata": {
        "id": "gi9dD5OQdc8P",
        "outputId": "a0d5b315-0d99-44b7-ef11-0243c2767c5a",
        "colab": {
          "base_uri": "https://localhost:8080/"
        }
      },
      "source": [
        "thisdict = {\n",
        "    \"merk snack\" : \"lays\",\n",
        "    \"rasa\" : \"taro\",\n",
        "    \"belinya di\" : \"indo*maret terdekat\"\n",
        "}\n",
        "print(thisdict)"
      ],
      "execution_count": 67,
      "outputs": [
        {
          "output_type": "stream",
          "text": [
            "{'merk snack': 'lays', 'rasa': 'taro', 'belinya di': 'indo*maret terdekat'}\n"
          ],
          "name": "stdout"
        }
      ]
    },
    {
      "cell_type": "markdown",
      "metadata": {
        "id": "47jIA7JvC2sL"
      },
      "source": [
        "Sekarang sudah tau kan kalo nilai dictionary bisa diubah dan kalian sudah paham kan gimana ngubahnya, yuk dicoba dulu biar makin paham :)"
      ]
    },
    {
      "cell_type": "code",
      "metadata": {
        "id": "1gGuQpm1DPSN",
        "colab": {
          "base_uri": "https://localhost:8080/"
        },
        "outputId": "84a9643b-1495-41c5-bef4-4f2a26ce761f"
      },
      "source": [
        "lins= {'Nama' : 'Lina' , 'Alamat' : 'Yogya' , 'Umur' : 20 }\n",
        "lins['Nama'] = 'Angraeni' \n",
        "lins['Alamat'] = 'Bantul' \n",
        "print(\"lins['Nama'] =\", lins['Nama']);\n",
        "print(\"lins['Alamat'] =\", lins['Alamat']);"
      ],
      "execution_count": 73,
      "outputs": [
        {
          "output_type": "stream",
          "text": [
            "lins['Nama'] = Angraeni\n",
            "lins['Alamat'] = Bantul\n"
          ],
          "name": "stdout"
        }
      ]
    },
    {
      "cell_type": "markdown",
      "metadata": {
        "id": "hBFir8xVLg5o"
      },
      "source": [
        "## Loop Melalui Dictionary\n",
        "\n",
        "Pada bagian Pengulangan melalui Dictionary, kita dapat melakukan Loop(Pengulangan) melalui Dictionary dengan menggunakan **for** loop.\n",
        "\n",
        "Saat melakukan pengulangan melalui Dictionary, nilai yang dikembalikan adalah kunci dari Dictionary, tetapi terdapat metode untuk mengembalikan nilai\n",
        "\n",
        "Sebagai contoh :\n",
        "Print semua nama kunci dalam Dictionary satu per satu"
      ]
    },
    {
      "cell_type": "code",
      "metadata": {
        "id": "EsK_xCfaMBwW",
        "colab": {
          "base_uri": "https://localhost:8080/"
        },
        "outputId": "04df7287-22e5-4121-9d75-b81f62a28cf4"
      },
      "source": [
        "for x in thisdict:\n",
        "  print(x)"
      ],
      "execution_count": null,
      "outputs": [
        {
          "output_type": "stream",
          "text": [
            "brand\n",
            "model\n",
            "year\n"
          ],
          "name": "stdout"
        }
      ]
    },
    {
      "cell_type": "markdown",
      "metadata": {
        "id": "vBPM3O_CMHmd"
      },
      "source": [
        "**Contoh 2:**\n",
        "\n",
        "Print semua *nilai* dalam Dictionary satu per satu"
      ]
    },
    {
      "cell_type": "code",
      "metadata": {
        "id": "zC1X4W8_MMDf",
        "colab": {
          "base_uri": "https://localhost:8080/"
        },
        "outputId": "3e8d41a4-b1d9-4ebe-dab9-052b8620d612"
      },
      "source": [
        "for x in thisdict:\n",
        "  print(thisdict[x])"
      ],
      "execution_count": null,
      "outputs": [
        {
          "output_type": "stream",
          "text": [
            "Toyota\n",
            "Kijang\n",
            "2004\n"
          ],
          "name": "stdout"
        }
      ]
    },
    {
      "cell_type": "markdown",
      "metadata": {
        "id": "CTX8JbrdMQHG"
      },
      "source": [
        "**Contoh 3:**\n",
        "\n",
        "Kita juga dapat menggunakan **values()** yang merupakan metode untuk mengembalikan nilai Dictionary"
      ]
    },
    {
      "cell_type": "code",
      "metadata": {
        "id": "P4sF4NJwMVKi",
        "colab": {
          "base_uri": "https://localhost:8080/"
        },
        "outputId": "e1c3221b-cd21-4e2e-b6fa-924ededae1f3"
      },
      "source": [
        "for x in thisdict.values():\n",
        "  print(x)"
      ],
      "execution_count": null,
      "outputs": [
        {
          "output_type": "stream",
          "text": [
            "Toyota\n",
            "Kijang\n",
            "2004\n"
          ],
          "name": "stdout"
        }
      ]
    },
    {
      "cell_type": "markdown",
      "metadata": {
        "id": "Vw6KRxXUMYdk"
      },
      "source": [
        "**Contoh 4:**\n",
        "\n",
        "Ulangi kedua kunci dan nilai, dengan menggunakan metode **items()**:"
      ]
    },
    {
      "cell_type": "code",
      "metadata": {
        "id": "R0LHvTdCMciA",
        "colab": {
          "base_uri": "https://localhost:8080/"
        },
        "outputId": "6f922b5b-ce70-4242-dd28-f5dcbb2e69ca"
      },
      "source": [
        "for x, y in thisdict.items():\n",
        "  print(x, y)"
      ],
      "execution_count": null,
      "outputs": [
        {
          "output_type": "stream",
          "text": [
            "brand Toyota\n",
            "model Kijang\n",
            "year 2004\n"
          ],
          "name": "stdout"
        }
      ]
    },
    {
      "cell_type": "markdown",
      "metadata": {
        "id": "PLi6zJNRDjpd"
      },
      "source": [
        "Di atas sudah diberikan contoh loop melalui directory menggunakan berbagai cara, sekarang kalian coba biar makin paham"
      ]
    },
    {
      "cell_type": "code",
      "metadata": {
        "id": "k2wcRN_8EAJX",
        "colab": {
          "base_uri": "https://localhost:8080/"
        },
        "outputId": "2e3268d8-c4be-4a9e-aed2-36df157c4dbd"
      },
      "source": [
        "#Loop Melalui Directory\n",
        "for l in thisdict:\n",
        "  print(l)"
      ],
      "execution_count": 74,
      "outputs": [
        {
          "output_type": "stream",
          "text": [
            "merk snack\n",
            "rasa\n",
            "belinya di\n"
          ],
          "name": "stdout"
        }
      ]
    },
    {
      "cell_type": "code",
      "metadata": {
        "id": "ZyDYhVkgh1cC",
        "outputId": "b0a8da74-c1aa-4e92-ff6f-364cd0dda028",
        "colab": {
          "base_uri": "https://localhost:8080/"
        }
      },
      "source": [
        "for s in thisdict:\n",
        "  print(thisdict[s])"
      ],
      "execution_count": 75,
      "outputs": [
        {
          "output_type": "stream",
          "text": [
            "lays\n",
            "taro\n",
            "indo*maret terdekat\n"
          ],
          "name": "stdout"
        }
      ]
    },
    {
      "cell_type": "code",
      "metadata": {
        "id": "gXQg-bubh93q",
        "outputId": "2dce6984-d860-420b-afb6-1653830095aa",
        "colab": {
          "base_uri": "https://localhost:8080/"
        }
      },
      "source": [
        "for g in thisdict.values():\n",
        "  print(g)"
      ],
      "execution_count": 76,
      "outputs": [
        {
          "output_type": "stream",
          "text": [
            "lays\n",
            "taro\n",
            "indo*maret terdekat\n"
          ],
          "name": "stdout"
        }
      ]
    },
    {
      "cell_type": "code",
      "metadata": {
        "id": "s2z711Y0iB_Q",
        "outputId": "6db0ebe6-b2d8-4cf3-ae56-d187ca9be290",
        "colab": {
          "base_uri": "https://localhost:8080/"
        }
      },
      "source": [
        "for g, s in thisdict.items():\n",
        "  print(g, s)"
      ],
      "execution_count": 77,
      "outputs": [
        {
          "output_type": "stream",
          "text": [
            "merk snack lays\n",
            "rasa taro\n",
            "belinya di indo*maret terdekat\n"
          ],
          "name": "stdout"
        }
      ]
    },
    {
      "cell_type": "markdown",
      "metadata": {
        "id": "xT7pJUjFMi_B"
      },
      "source": [
        "## Mengecek keanggotaan suatu key\n",
        "Untuk menentukan apakah kunci tertentu ada dalam Dictionary gunakan **in** sebagai kunci"
      ]
    },
    {
      "cell_type": "markdown",
      "metadata": {
        "id": "naFLmYYzMtOp"
      },
      "source": [
        "**Contoh 6:**\n",
        "\n",
        "Cek jika \"model\" terdapat pada Dictionary"
      ]
    },
    {
      "cell_type": "code",
      "metadata": {
        "id": "8flzqPCTMvAm",
        "colab": {
          "base_uri": "https://localhost:8080/"
        },
        "outputId": "b50ff53b-01c3-46fb-f775-fff4757e5591"
      },
      "source": [
        "thisdict = {\n",
        "    \"brand\" : \"Toyota\",\n",
        "    \"model\" : \"Kijang\",\n",
        "    \"tahun\" : 2004\n",
        "}\n",
        "if \"model\" in thisdict :\n",
        "  print(\"Yes, 'model' adalah salah satu dari kunci dalam distict dictionary\")"
      ],
      "execution_count": null,
      "outputs": [
        {
          "output_type": "stream",
          "text": [
            "Yes, 'model' adalah salah satu dari kunci dalam distict dictionary\n"
          ],
          "name": "stdout"
        }
      ]
    },
    {
      "cell_type": "markdown",
      "metadata": {
        "id": "IUOIUwOYEQuR"
      },
      "source": [
        "Sekarang kalian coba deh cek keanggotaan suatu key yang ada di dictionary kalian, siapa tahu bukan merupakan anggota kan, bisa jadi penyusup xixixi"
      ]
    },
    {
      "cell_type": "code",
      "metadata": {
        "id": "K85KcpLaEsBH",
        "colab": {
          "base_uri": "https://localhost:8080/"
        },
        "outputId": "fe1ea844-a601-4f29-f00a-12df06d73d38"
      },
      "source": [
        "#Mengecek keanggotaan suatu key\n",
        "thisdict = {\n",
        "    \"merk\" : \"taro\",\n",
        "    \"rasa\" : \"redvelvet\",\n",
        "    \"produksi\" :\"korea\"\n",
        "}\n",
        "if \"rasa\" in thisdict :\n",
        "  print(\"Yes, 'rasa' adalah salah satu dari kunci dalam distict dictionary\")"
      ],
      "execution_count": 78,
      "outputs": [
        {
          "output_type": "stream",
          "text": [
            "Yes, 'rasa' adalah salah satu dari kunci dalam distict dictionary\n"
          ],
          "name": "stdout"
        }
      ]
    },
    {
      "cell_type": "markdown",
      "metadata": {
        "id": "NeXUQXjZOBOv"
      },
      "source": [
        "## Menambah Item"
      ]
    },
    {
      "cell_type": "markdown",
      "metadata": {
        "id": "-DeukrFUOOJ2"
      },
      "source": [
        "Untuk menambahkan item, kita dapat menggunakan kunci index baru dengan langsung memberikan nilainya. Untuk contohnya, bisa dilihat kode di bawah ini yaa :)"
      ]
    },
    {
      "cell_type": "code",
      "metadata": {
        "id": "pCnst7TaOPOE",
        "colab": {
          "base_uri": "https://localhost:8080/"
        },
        "outputId": "07d03012-e3cb-47bb-a2af-6ab6e7bf85f6"
      },
      "source": [
        "thisdict = {'Name': 'Zara', 'Age': 7, 'Class': 'First'}\n",
        "\n",
        "thisdict['School'] = \"DPS School\" # Menambah entri baru pada thisdict\n",
        "\n",
        "print (thisdict)"
      ],
      "execution_count": null,
      "outputs": [
        {
          "output_type": "stream",
          "text": [
            "{'Name': 'Zara', 'Age': 7, 'Class': 'First', 'School': 'DPS School'}\n"
          ],
          "name": "stdout"
        }
      ]
    },
    {
      "cell_type": "code",
      "metadata": {
        "id": "vl81b8xfizkA",
        "outputId": "05f81789-68d0-44d9-da98-e093369271d1",
        "colab": {
          "base_uri": "https://localhost:8080/"
        }
      },
      "source": [
        "thisdict = {'Nama': 'Lina', 'Umur': 20, 'Prodi': 'Matematika'}\n",
        "\n",
        "thisdict['Uniersitas'] = \"Ahmad Dahlan\" # Menambah entri baru pada thisdict\n",
        "\n",
        "print (thisdict)"
      ],
      "execution_count": 79,
      "outputs": [
        {
          "output_type": "stream",
          "text": [
            "{'Nama': 'Lina', 'Umur': 20, 'Prodi': 'Matematika', 'Uniersitas': 'Ahmad Dahlan'}\n"
          ],
          "name": "stdout"
        }
      ]
    },
    {
      "cell_type": "markdown",
      "metadata": {
        "id": "5mHe4zJJOaFJ"
      },
      "source": [
        "Selain menggunakan format di atas, untuk menambahkan item kita juga bisa menggunakan method update()."
      ]
    },
    {
      "cell_type": "code",
      "metadata": {
        "id": "P3ODwqpeObGi",
        "colab": {
          "base_uri": "https://localhost:8080/"
        },
        "outputId": "56b5b888-38c8-4dfc-9ea9-e2161a55aa70"
      },
      "source": [
        "thisdict = {'Name': 'Zara', 'Age': 7, 'Class': 'First'}\n",
        "\n",
        "thisdict.update({\"School\": \"DPS School\"}) #Menambah item baru pada thisdict\n",
        "\n",
        "print(thisdict)"
      ],
      "execution_count": null,
      "outputs": [
        {
          "output_type": "stream",
          "text": [
            "{'Name': 'Zara', 'Age': 7, 'Class': 'First', 'School': 'DPS School'}\n"
          ],
          "name": "stdout"
        }
      ]
    },
    {
      "cell_type": "markdown",
      "metadata": {
        "id": "vES-HR3hE0-f"
      },
      "source": [
        "Nah iya nih dalam menambah item baru pada dictionary bisa dilakukan dengan 2 cara, menurut kalian mudah yang mana, dicoba dulu biar tahu rasanya hohoho"
      ]
    },
    {
      "cell_type": "code",
      "metadata": {
        "id": "ORxfmwHgFCwT",
        "colab": {
          "base_uri": "https://localhost:8080/"
        },
        "outputId": "5d940481-e28b-4b0a-83f0-2350961a7da9"
      },
      "source": [
        "#Menambah item baru pada dictionary\n",
        "thisdict = {'Nama': 'Angraeni', 'umur': 20, 'hobby': 'masak'}\n",
        "\n",
        "thisdict.update({\"hobby lainnya\": \"menyayangi kamu\"}) #Menambah item baru pada thisdict\n",
        "\n",
        "print(thisdict)"
      ],
      "execution_count": 81,
      "outputs": [
        {
          "output_type": "stream",
          "text": [
            "{'Nama': 'Angraeni', 'umur': 20, 'hobby': 'masak', 'hobby lainnya': 'menyayangi kamu'}\n"
          ],
          "name": "stdout"
        }
      ]
    },
    {
      "cell_type": "markdown",
      "metadata": {
        "id": "UztNPpTNOjkS"
      },
      "source": [
        "## Menghapus Item"
      ]
    },
    {
      "cell_type": "markdown",
      "metadata": {
        "id": "ZrrLJx6SOlQF"
      },
      "source": [
        "Untuk menghapus item yang ada pada Dictionary, kita bisa menggunakan perintah del, method pop(), method popitem(), dan method clear().\n",
        "\n",
        "- Fungsi del adalah fungsi untuk menghapus suatu variabel dari memori.\n",
        "\n",
        "- Method pop() adalah method yang berfungsi untuk mengeluarkan item yang diinginkan dari dictionary.\n",
        "\n",
        "- Method popitem() adalah method yang digunakan untuk menghapus item yang terakhir.\n",
        "\n",
        "- Method clear() adalah method yang digunakan untuk mengosongkan dictionary."
      ]
    },
    {
      "cell_type": "code",
      "metadata": {
        "id": "Tv2i5H42OsIk",
        "colab": {
          "base_uri": "https://localhost:8080/"
        },
        "outputId": "287b12f4-854c-4592-faee-d1e012b29908"
      },
      "source": [
        "#Menghapus item menggunakan del\n",
        "thisdict = {'Name': 'Zara', 'Age': 7, 'Class': 'First'}\n",
        "del thisdict[\"Name\"]\n",
        "\n",
        "print(thisdict)"
      ],
      "execution_count": null,
      "outputs": [
        {
          "output_type": "stream",
          "text": [
            "{'Age': 7, 'Class': 'First'}\n"
          ],
          "name": "stdout"
        }
      ]
    },
    {
      "cell_type": "code",
      "metadata": {
        "id": "mQBWOls4kdUY",
        "outputId": "0a523308-9a44-4ea2-f326-cb0b6788a42b",
        "colab": {
          "base_uri": "https://localhost:8080/"
        }
      },
      "source": [
        "#Menghapus item menggunakan del\n",
        "thisdict = {'nama': 'lina', 'nim': 1800015002, 'hobby': 'masak'}\n",
        "del thisdict[\"nim\"]\n",
        "\n",
        "print(thisdict)"
      ],
      "execution_count": 82,
      "outputs": [
        {
          "output_type": "stream",
          "text": [
            "{'nama': 'lina', 'hobby': 'masak'}\n"
          ],
          "name": "stdout"
        }
      ]
    },
    {
      "cell_type": "code",
      "metadata": {
        "id": "5tHFrmvsOzKw",
        "colab": {
          "base_uri": "https://localhost:8080/"
        },
        "outputId": "0bcedee1-3da2-49c6-f409-e953e550b76a"
      },
      "source": [
        "#Menghapus item menggunakan method pop()\n",
        "thisdict = {'Name': 'Zara', 'Age': 7, 'Class': 'First'}\n",
        "thisdict.pop(\"Age\")\n",
        "\n",
        "print(thisdict)"
      ],
      "execution_count": null,
      "outputs": [
        {
          "output_type": "stream",
          "text": [
            "{'Name': 'Zara', 'Class': 'First'}\n"
          ],
          "name": "stdout"
        }
      ]
    },
    {
      "cell_type": "code",
      "metadata": {
        "id": "2UEEfTXikthB",
        "outputId": "0fbb87f8-6d82-4793-a8ed-5e9d7be694c2",
        "colab": {
          "base_uri": "https://localhost:8080/"
        }
      },
      "source": [
        "#Menghapus item menggunakan method pop()\n",
        "thisdict = {'judul lagu': 'friendzone', 'vocal': 'lina', 'music': 'kak seto'}\n",
        "thisdict.pop(\"music\")\n",
        "\n",
        "print(thisdict)"
      ],
      "execution_count": 83,
      "outputs": [
        {
          "output_type": "stream",
          "text": [
            "{'judul lagu': 'friendzone', 'vocal': 'lina'}\n"
          ],
          "name": "stdout"
        }
      ]
    },
    {
      "cell_type": "code",
      "metadata": {
        "id": "2wR2qAe1O0_p",
        "colab": {
          "base_uri": "https://localhost:8080/"
        },
        "outputId": "3ad1ab2c-68af-4780-dd84-b189baf2b40f"
      },
      "source": [
        "#Menghapus item menggunakan method popitem()\n",
        "thisdict = {'Name': 'Zara', 'Age': 7, 'Class': 'First'}\n",
        "thisdict.popitem()\n",
        "\n",
        "print(thisdict)"
      ],
      "execution_count": null,
      "outputs": [
        {
          "output_type": "stream",
          "text": [
            "{'Name': 'Zara', 'Age': 7}\n"
          ],
          "name": "stdout"
        }
      ]
    },
    {
      "cell_type": "code",
      "metadata": {
        "id": "J_YEXuwklXzD",
        "outputId": "50c03d79-e889-4f81-aca8-15d7c32150d4",
        "colab": {
          "base_uri": "https://localhost:8080/"
        }
      },
      "source": [
        "#Menghapus item menggunakan method popitem()\n",
        "thisdict = {'Nama': 'Lina', 'Umur': 20, 'hobby': 'stalk sosmed kamu'}\n",
        "thisdict.popitem()\n",
        "\n",
        "print(thisdict)"
      ],
      "execution_count": 84,
      "outputs": [
        {
          "output_type": "stream",
          "text": [
            "{'Nama': 'Lina', 'Umur': 20}\n"
          ],
          "name": "stdout"
        }
      ]
    },
    {
      "cell_type": "code",
      "metadata": {
        "id": "obesr1UqO_u5",
        "colab": {
          "base_uri": "https://localhost:8080/"
        },
        "outputId": "793cedce-f4eb-4133-b663-f5fc07c34052"
      },
      "source": [
        "#Menghapus item menggunakan method clear()\n",
        "thisdict = {'Name': 'Zara', 'Age': 7, 'Class': 'First'}\n",
        "thisdict.clear()\n",
        "\n",
        "print(thisdict)"
      ],
      "execution_count": null,
      "outputs": [
        {
          "output_type": "stream",
          "text": [
            "{}\n"
          ],
          "name": "stdout"
        }
      ]
    },
    {
      "cell_type": "code",
      "metadata": {
        "id": "K7LRhpNLmK05",
        "outputId": "a6be8681-b7d3-49a4-9f72-56423d6d39e1",
        "colab": {
          "base_uri": "https://localhost:8080/"
        }
      },
      "source": [
        "#Menghapus item menggunakan method clear()\n",
        "thisdict = {'hobby': 'masak', 'umur': 20, 'Anak ke': 1}\n",
        "thisdict.clear()\n",
        "\n",
        "print(thisdict)"
      ],
      "execution_count": 85,
      "outputs": [
        {
          "output_type": "stream",
          "text": [
            "{}\n"
          ],
          "name": "stdout"
        }
      ]
    },
    {
      "cell_type": "markdown",
      "metadata": {
        "id": "VfK6RhraFOoQ"
      },
      "source": [
        "Dan kalo menghapus dictionary ternyata ada 4 cara lohh, pada contoh di atas sudah jelas kan, supaya tambah jelas silahkan dicoba yaa ;)"
      ]
    },
    {
      "cell_type": "code",
      "metadata": {
        "id": "1-BGdhElFert",
        "colab": {
          "base_uri": "https://localhost:8080/"
        },
        "outputId": "2aa1997d-70ce-4362-9c41-d52355f8ce24"
      },
      "source": [
        "#Menghapus item menggunakan del\n",
        "thisdict = {'nama': 'lina', 'nim': 1800015002, 'hobby': 'masak'}\n",
        "del thisdict[\"nim\"]\n",
        "\n",
        "print(thisdict)"
      ],
      "execution_count": 86,
      "outputs": [
        {
          "output_type": "stream",
          "text": [
            "{'nama': 'lina', 'hobby': 'masak'}\n"
          ],
          "name": "stdout"
        }
      ]
    },
    {
      "cell_type": "code",
      "metadata": {
        "id": "TIiVrMGInQtM",
        "outputId": "3a382f49-69ab-497f-9c14-57265bcaab13",
        "colab": {
          "base_uri": "https://localhost:8080/"
        }
      },
      "source": [
        "#Menghapus item menggunakan method pop()\n",
        "thisdict = {'judul lagu': 'friendzone', 'vocal': 'lina', 'music': 'kak seto'}\n",
        "thisdict.pop(\"music\")\n",
        "\n",
        "print(thisdict)"
      ],
      "execution_count": 87,
      "outputs": [
        {
          "output_type": "stream",
          "text": [
            "{'judul lagu': 'friendzone', 'vocal': 'lina'}\n"
          ],
          "name": "stdout"
        }
      ]
    },
    {
      "cell_type": "code",
      "metadata": {
        "id": "Zm_kJt8TnalP",
        "outputId": "618e25ab-6ffc-4740-824d-716c101b630c",
        "colab": {
          "base_uri": "https://localhost:8080/"
        }
      },
      "source": [
        "#Menghapus item menggunakan method popitem()\n",
        "thisdict = {'Nama': 'Lina', 'Umur': 20, 'hobby': 'stalk sosmed kamu'}\n",
        "thisdict.popitem()\n",
        "\n",
        "print(thisdict)"
      ],
      "execution_count": 88,
      "outputs": [
        {
          "output_type": "stream",
          "text": [
            "{'Nama': 'Lina', 'Umur': 20}\n"
          ],
          "name": "stdout"
        }
      ]
    },
    {
      "cell_type": "code",
      "metadata": {
        "id": "lbvRXy0Unjhh",
        "outputId": "355fec9b-ceab-424e-d0f4-0919f94e5f11",
        "colab": {
          "base_uri": "https://localhost:8080/"
        }
      },
      "source": [
        "#Menghapus item menggunakan method clear()\n",
        "thisdict = {'hobby': 'masak', 'umur': 20, 'Anak ke': 1}\n",
        "thisdict.clear()\n",
        "\n",
        "print(thisdict)"
      ],
      "execution_count": 89,
      "outputs": [
        {
          "output_type": "stream",
          "text": [
            "{}\n"
          ],
          "name": "stdout"
        }
      ]
    },
    {
      "cell_type": "markdown",
      "metadata": {
        "id": "yw-oOwJyPIFA"
      },
      "source": [
        "## Menyalin Dictionary"
      ]
    },
    {
      "cell_type": "markdown",
      "metadata": {
        "id": "ijhQx7qmPgcF"
      },
      "source": [
        "Untuk menyalin dictionary, kita dapat menggunakan method copy()."
      ]
    },
    {
      "cell_type": "code",
      "metadata": {
        "id": "Q-CWNgUuPPqg",
        "colab": {
          "base_uri": "https://localhost:8080/"
        },
        "outputId": "fd7e991d-aca5-41df-f524-26dedb0faf11"
      },
      "source": [
        "#Menggunakan method copy()\n",
        "thisdict = {'Name': 'Zara', 'Age': 7, 'Class': 'First'}\n",
        "mydict=thisdict.copy()\n",
        "\n",
        "print(mydict)"
      ],
      "execution_count": null,
      "outputs": [
        {
          "output_type": "stream",
          "text": [
            "{'Name': 'Zara', 'Age': 7, 'Class': 'First'}\n"
          ],
          "name": "stdout"
        }
      ]
    },
    {
      "cell_type": "markdown",
      "metadata": {
        "id": "VhzUKxt8Ghg_"
      },
      "source": [
        "Yuk coba salin dictionary yang telah kalian buat tadi, biar bisa diotak atik lagi xixixi"
      ]
    },
    {
      "cell_type": "code",
      "metadata": {
        "id": "cYpu8BnOGfnZ",
        "colab": {
          "base_uri": "https://localhost:8080/"
        },
        "outputId": "8dde9ce3-3bd2-4c1d-c7b1-df448990ad17"
      },
      "source": [
        "#Menyalin dictionary\n",
        "#Menggunakan method copy()\n",
        "thisdict = {'Nama': 'Lindut', 'hobby': 'masak', 'alasan': 'suka aja'}\n",
        "mydict=thisdict.copy()\n",
        "\n",
        "print(mydict)"
      ],
      "execution_count": 90,
      "outputs": [
        {
          "output_type": "stream",
          "text": [
            "{'Nama': 'Lindut', 'hobby': 'masak', 'alasan': 'suka aja'}\n"
          ],
          "name": "stdout"
        }
      ]
    },
    {
      "cell_type": "markdown",
      "metadata": {
        "id": "HapRCuUdJcal"
      },
      "source": [
        "## Nested Dictionary\n",
        "Nested Dictionary atau kamus bertingkat merupakan suatu kamus yang mana kamus tersebut bisa diisi dengan satu atau lebih kamus di dalamnya.\n",
        "\n",
        "Kita akan membuat sebuah contoh Kamus yang memuat 3 kamus di dalamnya"
      ]
    },
    {
      "cell_type": "code",
      "metadata": {
        "id": "a7HX1DVFJiQN",
        "colab": {
          "base_uri": "https://localhost:8080/"
        },
        "outputId": "9d3c899a-6483-46df-aefc-a811550ebf3d"
      },
      "source": [
        "Keluarga_afif={\n",
        "    \"anak1\":{\n",
        "        \"nama\":\"dera\",\n",
        "        \"Tanggal Lahir\": 19012000\n",
        "    },\n",
        "    \"anak2\":{\n",
        "        \"nama\":\"Joko\",\n",
        "        \"Tanggal Lahir\": 17091997 \n",
        "    },\n",
        "    \"anak3\":{\n",
        "        \"nama\":\"Asih\",\n",
        "        \"Tanggal Lahir\": 20022000\n",
        "    }\n",
        "}\n",
        "\n",
        "print(Keluarga_afif)"
      ],
      "execution_count": null,
      "outputs": [
        {
          "output_type": "stream",
          "text": [
            "{'anak1': {'nama': 'dera', 'Tanggal Lahir': 19012000}, 'anak2': {'nama': 'Joko', 'Tanggal Lahir': 17091997}, 'anak3': {'nama': 'Asih', 'Tanggal Lahir': 20022000}}\n"
          ],
          "name": "stdout"
        }
      ]
    },
    {
      "cell_type": "code",
      "metadata": {
        "id": "E75GR-vHoU8h",
        "outputId": "dc2ae2f7-7965-4317-e272-d69627336bc8",
        "colab": {
          "base_uri": "https://localhost:8080/"
        }
      },
      "source": [
        "Makanan_Favorite={\n",
        "    \"ayah\":{\n",
        "        \"Makan\":\"Gulai Ikan\",\n",
        "        \"Minum\":\"Air Putih\"\n",
        "    },\n",
        "    \"Ibu\":{\n",
        "        \"Makan\":\"Pempek\",\n",
        "        \"Minum\":\"Bubble\"\n",
        "    },\n",
        "    \"Lina\":{\n",
        "        \"Makan\":\"Nasi Padang\",\n",
        "        \"Minum\":\"Bubble\"\n",
        "    }\n",
        "}\n",
        "\n",
        "print(Makanan_Favorite)"
      ],
      "execution_count": 91,
      "outputs": [
        {
          "output_type": "stream",
          "text": [
            "{'ayah': {'Makan': 'Gulai Ikan', 'Minum': 'Air Putih'}, 'Ibu': {'Makan': 'Pempek', 'Minum': 'Bubble'}, 'Lina': {'Makan': 'Nasi Padang', 'Minum': 'Bubble'}}\n"
          ],
          "name": "stdout"
        }
      ]
    },
    {
      "cell_type": "markdown",
      "metadata": {
        "id": "R43exLqhJpmv"
      },
      "source": [
        "Kita akan membuat suatu Kamus yang akan berisi 3 kamus lainnya"
      ]
    },
    {
      "cell_type": "code",
      "metadata": {
        "id": "SV-t3qX-Jz7P",
        "colab": {
          "base_uri": "https://localhost:8080/"
        },
        "outputId": "027097bb-4829-4fa0-b7a5-55a208b1aeb4"
      },
      "source": [
        "anak1={\"nama\":\"Rikma\",\"Tanggal Lahir\":19012000}\n",
        "anak2={\"nama\":\"Joko\",\"Tanggal Lahir\":17091997}\n",
        "anak3={\"nama\":\"Asih\",\"Tanggal Lahir\":20022000}\n",
        "\n",
        "Keluarga_afif={\"anak1\":anak1,\"anak2\":anak2,\"anak3\":anak3}\n",
        "print(Keluarga_afif)"
      ],
      "execution_count": null,
      "outputs": [
        {
          "output_type": "stream",
          "text": [
            "{'anak1': {'nama': 'Rikma', 'Tanggal Lahir': 19012000}, 'anak2': {'nama': 'Joko', 'Tanggal Lahir': 17091997}, 'anak3': {'nama': 'Asih', 'Tanggal Lahir': 20022000}}\n"
          ],
          "name": "stdout"
        }
      ]
    },
    {
      "cell_type": "code",
      "metadata": {
        "id": "LiWvCqQlpqCY",
        "outputId": "04ec4943-54f1-4381-db98-d0af3e6f3e03",
        "colab": {
          "base_uri": "https://localhost:8080/"
        }
      },
      "source": [
        "Sayur={\"Warna Orange\":\"Wortel\",\"Rasa\":\"B Aja\"}\n",
        "Buah={\"Warna Merah\":\"Apel\",\"Rasa\":\"Manis\"}\n",
        "Snack={\"Warna Ungu\":\"Wallens\",\"Rasa\":\"Mangtab\"}\n",
        "\n",
        "Makanan={\"Sayur\":Sayur,\"Buah\":Buah,\"Snack\":Snack}\n",
        "print(Makanan)"
      ],
      "execution_count": 92,
      "outputs": [
        {
          "output_type": "stream",
          "text": [
            "{'Sayur': {'Warna Orange': 'Wortel', 'Rasa': 'B Aja'}, 'Buah': {'Warna Merah': 'Apel', 'Rasa': 'Manis'}, 'Snack': {'Warna Ungu': 'Wallens', 'Rasa': 'Mangtab'}}\n"
          ],
          "name": "stdout"
        }
      ]
    },
    {
      "cell_type": "markdown",
      "metadata": {
        "id": "rn1_pOZ3J5Z2"
      },
      "source": [
        "Atau kita juga dapat menggunakan fungsi dict() untuk membuat kamus yang baru"
      ]
    },
    {
      "cell_type": "code",
      "metadata": {
        "id": "_Iuj4TapKq3j",
        "colab": {
          "base_uri": "https://localhost:8080/",
          "height": 198
        },
        "outputId": "af873568-98fd-4fa7-839a-a5b6a7f53e06"
      },
      "source": [
        "Indoapril=dict(barang='Minuman',merek='BearBrand',harga=7000)\n",
        "#Perlu di perhatikan  bahwa dalam fungsi dict() kita tidak lagi memakai kolon (:) tetapi menggunakan sama dengan (=)\n",
        "print(Indoapril)"
      ],
      "execution_count": null,
      "outputs": [
        {
          "output_type": "error",
          "ename": "TypeError",
          "evalue": "ignored",
          "traceback": [
            "\u001b[0;31m---------------------------------------------------------------------------\u001b[0m",
            "\u001b[0;31mTypeError\u001b[0m                                 Traceback (most recent call last)",
            "\u001b[0;32m<ipython-input-80-43f89556dadf>\u001b[0m in \u001b[0;36m<module>\u001b[0;34m()\u001b[0m\n\u001b[0;32m----> 1\u001b[0;31m \u001b[0mIndoapril\u001b[0m\u001b[0;34m=\u001b[0m\u001b[0mdict\u001b[0m\u001b[0;34m(\u001b[0m\u001b[0mbarang\u001b[0m\u001b[0;34m=\u001b[0m\u001b[0;34m'Minuman'\u001b[0m\u001b[0;34m,\u001b[0m\u001b[0mmerek\u001b[0m\u001b[0;34m=\u001b[0m\u001b[0;34m'BearBrand'\u001b[0m\u001b[0;34m,\u001b[0m\u001b[0mharga\u001b[0m\u001b[0;34m=\u001b[0m\u001b[0;36m7000\u001b[0m\u001b[0;34m)\u001b[0m\u001b[0;34m\u001b[0m\u001b[0;34m\u001b[0m\u001b[0m\n\u001b[0m\u001b[1;32m      2\u001b[0m \u001b[0;31m#Perlu di perhatikan  bahwa dalam fungsi dict() kita tidak lagi memakai kolon (:) tetapi menggunakan sama dengan (=)\u001b[0m\u001b[0;34m\u001b[0m\u001b[0;34m\u001b[0m\u001b[0;34m\u001b[0m\u001b[0m\n\u001b[1;32m      3\u001b[0m \u001b[0mprint\u001b[0m\u001b[0;34m(\u001b[0m\u001b[0mIndoapril\u001b[0m\u001b[0;34m)\u001b[0m\u001b[0;34m\u001b[0m\u001b[0;34m\u001b[0m\u001b[0m\n",
            "\u001b[0;31mTypeError\u001b[0m: 'dict' object is not callable"
          ]
        }
      ]
    },
    {
      "cell_type": "markdown",
      "metadata": {
        "id": "hqro2QmYG3pA"
      },
      "source": [
        "Paham belum nih tentang materi nested dictionary, coba sekarang kalian buat dan pahami, nanti pasti paham kalo udah nyoba ;)"
      ]
    },
    {
      "cell_type": "code",
      "metadata": {
        "id": "D9WDIcsaPysc",
        "colab": {
          "base_uri": "https://localhost:8080/"
        },
        "outputId": "4866c1c7-ac3e-42b7-dc6f-583487b278e2"
      },
      "source": [
        "#Nested dictionary\n",
        "Makanan_Favorite={\n",
        "    \"ayah\":{\n",
        "        \"Makan\":\"Gulai Ikan\",\n",
        "        \"Minum\":\"Air Putih\"\n",
        "    },\n",
        "    \"Ibu\":{\n",
        "        \"Makan\":\"Pempek\",\n",
        "        \"Minum\":\"Bubble\"\n",
        "    },\n",
        "    \"Lina\":{\n",
        "        \"Makan\":\"Nasi Padang\",\n",
        "        \"Minum\":\"Bubble\"\n",
        "    }\n",
        "}\n",
        "\n",
        "print(Makanan_Favorite)"
      ],
      "execution_count": 98,
      "outputs": [
        {
          "output_type": "stream",
          "text": [
            "{'ayah': {'Makan': 'Gulai Ikan', 'Minum': 'Air Putih'}, 'Ibu': {'Makan': 'Pempek', 'Minum': 'Bubble'}, 'Lina': {'Makan': 'Nasi Padang', 'Minum': 'Bubble'}}\n"
          ],
          "name": "stdout"
        }
      ]
    },
    {
      "cell_type": "code",
      "metadata": {
        "id": "iohy-S3Qsd_k",
        "outputId": "b1b68472-6026-4c4e-a269-3e2f85b5f8ef",
        "colab": {
          "base_uri": "https://localhost:8080/"
        }
      },
      "source": [
        "anak1={\"nama\":\"Rikma\",\"Tanggal Lahir\":19012000}\n",
        "anak2={\"nama\":\"Joko\",\"Tanggal Lahir\":17091997}\n",
        "anak3={\"nama\":\"Asih\",\"Tanggal Lahir\":20022000}\n",
        "\n",
        "Keluarga_afif={\"anak1\":anak1,\"anak2\":anak2,\"anak3\":anak3}\n",
        "print(Keluarga_afif)"
      ],
      "execution_count": 99,
      "outputs": [
        {
          "output_type": "stream",
          "text": [
            "{'anak1': {'nama': 'Rikma', 'Tanggal Lahir': 19012000}, 'anak2': {'nama': 'Joko', 'Tanggal Lahir': 17091997}, 'anak3': {'nama': 'Asih', 'Tanggal Lahir': 20022000}}\n"
          ],
          "name": "stdout"
        }
      ]
    },
    {
      "cell_type": "code",
      "metadata": {
        "id": "2JLfpuJTsnGA",
        "outputId": "7de10f8f-a23a-4edc-f408-4443550ee123",
        "colab": {
          "base_uri": "https://localhost:8080/"
        }
      },
      "source": [
        "Sayur={\"Warna Orange\":\"Wortel\",\"Rasa\":\"B Aja\"}\n",
        "Buah={\"Warna Merah\":\"Apel\",\"Rasa\":\"Manis\"}\n",
        "Snack={\"Warna Ungu\":\"Wallens\",\"Rasa\":\"Mangtab\"}\n",
        "\n",
        "Makanan={\"Sayur\":Sayur,\"Buah\":Buah,\"Snack\":Snack}\n",
        "print(Makanan)"
      ],
      "execution_count": 100,
      "outputs": [
        {
          "output_type": "stream",
          "text": [
            "{'Sayur': {'Warna Orange': 'Wortel', 'Rasa': 'B Aja'}, 'Buah': {'Warna Merah': 'Apel', 'Rasa': 'Manis'}, 'Snack': {'Warna Ungu': 'Wallens', 'Rasa': 'Mangtab'}}\n"
          ],
          "name": "stdout"
        }
      ]
    },
    {
      "cell_type": "markdown",
      "metadata": {
        "id": "PP7KHpy-ymYq"
      },
      "source": [
        "\n",
        "\n",
        "---\n",
        "\n",
        "\n",
        "#**Berbagai Method untuk Dictionary**\n",
        "\n",
        "---\n",
        "\n"
      ]
    },
    {
      "cell_type": "markdown",
      "metadata": {
        "id": "hzM9fg8rILk9"
      },
      "source": [
        "- clear() : Menghapus semua elemen dictionary\n",
        "- copy() : Mengembalikan salinan dictionary\n",
        "- fromkeys() : Buat Dictionary baru dengan kunci dari seq dan nilai yang disetel ke nilai.\n",
        "- get() : Mengembalikan nilai dari kunci yang ditentukan\n",
        "- items() : Mengembalikan daftar dari pasangan tuple dictionary (key, value)\n",
        "- keys() : Mengembalikan daftar key dictionary\n",
        "- pop() : Menghapus item kunci yang disebutkan\n",
        "- popitem() : Menghapus item yang terakhir dimasukkan\n",
        "- setdefault() : Mengembalikan nilai dari kunci yang ditentukan. Jika kunci tidak ada: masukkan kunci dengan nilai yang ditentukan\n",
        "- update() : Menambah pasangan kunci yang diinginkan\n",
        "- values() : Mengembalikan daftar nilai dictionary"
      ]
    },
    {
      "cell_type": "markdown",
      "metadata": {
        "id": "Sacny0IzM1xc"
      },
      "source": [
        "## Clear()\n",
        "Untuk menghapus semua item/elemen yang termuat didalam dictionary, gunakan fungsi **clear()**\n",
        "\n",
        "dictionary.clear\n",
        "\n",
        "print(dictionary)"
      ]
    },
    {
      "cell_type": "code",
      "metadata": {
        "id": "aDt2u6E1OJK-",
        "colab": {
          "base_uri": "https://localhost:8080/"
        },
        "outputId": "8c0bda5a-07b3-40d2-fe8b-3b21311f598b"
      },
      "source": [
        "dict= {'Universitas' : 'UAD' , 'Prodi' : 'Matematika' , 'Tahun' : 2018 , 1800015065 : 'NIM'}\n",
        "dict.clear()\n",
        "print(dict)"
      ],
      "execution_count": null,
      "outputs": [
        {
          "output_type": "stream",
          "text": [
            "{}\n"
          ],
          "name": "stdout"
        }
      ]
    },
    {
      "cell_type": "code",
      "metadata": {
        "id": "owkG9O0rs2-U",
        "outputId": "e1b48620-61c0-4ec0-878e-2634ff8ceaf7",
        "colab": {
          "base_uri": "https://localhost:8080/"
        }
      },
      "source": [
        "dict= {'Nama' : 'Lina' , 'Hobby' : 'Masak' , 'Umur' : 20 , 1800015002 : 'NIM'}\n",
        "dict.clear()\n",
        "print(dict)"
      ],
      "execution_count": 101,
      "outputs": [
        {
          "output_type": "stream",
          "text": [
            "{}\n"
          ],
          "name": "stdout"
        }
      ]
    },
    {
      "cell_type": "markdown",
      "metadata": {
        "id": "_AGp8ZqbMnws"
      },
      "source": [
        "## Copy()\n",
        "Untuk mengcopy/menyalin item didalam dictionary, bisa digunakan fungsi **copy()**"
      ]
    },
    {
      "cell_type": "code",
      "metadata": {
        "id": "56NFeeSSNOVo",
        "colab": {
          "base_uri": "https://localhost:8080/"
        },
        "outputId": "3d87ace6-facd-427e-cb8c-76d067c5c59f"
      },
      "source": [
        "dict= {'Universitas' : 'UAD' , 'Prodi' : 'Matematika' , 'Tahun' : 2018 , 1800015065 : 'NIM'}\n",
        "C=dict.copy()\n",
        "print(C)"
      ],
      "execution_count": null,
      "outputs": [
        {
          "output_type": "stream",
          "text": [
            "{'Universitas': 'UAD', 'Prodi': 'Matematika', 'Tahun': 2018, 1800015065: 'NIM'}\n"
          ],
          "name": "stdout"
        }
      ]
    },
    {
      "cell_type": "code",
      "metadata": {
        "id": "oaYeLdVRuQ76",
        "outputId": "a455d2ed-e3b9-4202-fc4c-882ce255b956",
        "colab": {
          "base_uri": "https://localhost:8080/"
        }
      },
      "source": [
        "dict= {'Nama' : 'Lina' , 'Hobby' : 'Masak' , 'Hobby lainnya' : 'menyayangi kamu'}\n",
        "C=dict.copy()\n",
        "print(C)"
      ],
      "execution_count": 102,
      "outputs": [
        {
          "output_type": "stream",
          "text": [
            "{'Nama': 'Lina', 'Hobby': 'Masak', 'Hobby lainnya': 'menyayangi kamu'}\n"
          ],
          "name": "stdout"
        }
      ]
    },
    {
      "cell_type": "markdown",
      "metadata": {
        "id": "Z6XDDzg2NyZ9"
      },
      "source": [
        "##Fromkeys()\n",
        "Untuk menyalin elemen di dalam dictionary, namun dengan kunci(key) dan nilai(value) tertentu, dapat menggunakan fungsi **fromkeys()**\n",
        "\n"
      ]
    },
    {
      "cell_type": "code",
      "metadata": {
        "id": "_KqfaOR_OUCc",
        "colab": {
          "base_uri": "https://localhost:8080/"
        },
        "outputId": "832412b8-315d-4e8d-9d82-215ef047c765"
      },
      "source": [
        "dict= {'Universitas' : 'UAD' , 'Prodi' : 'Matematika' , 'Tahun' : 2018 , 1800015065 : 'NIM'}\n",
        "x = ('Universitas', 'Prodi')\n",
        "y = 0\n",
        "\n",
        "thisdict = dict.fromkeys(x, y)\n",
        "\n",
        "print(thisdict)"
      ],
      "execution_count": null,
      "outputs": [
        {
          "output_type": "stream",
          "text": [
            "{'Universitas': 0, 'Prodi': 0}\n"
          ],
          "name": "stdout"
        }
      ]
    },
    {
      "cell_type": "code",
      "metadata": {
        "id": "Zefvuh0tvJWj",
        "outputId": "12d34aff-7b98-4441-ae46-722da3d6a0f5",
        "colab": {
          "base_uri": "https://localhost:8080/"
        }
      },
      "source": [
        "dict= {'Namaku' : 'Lina' , 'Hobbyku' : 'Mencintai Kamu' , 'Umur' : 20 , 1800015002 : 'NIM'}\n",
        "l = ('Namaku', 'Hobbyku')\n",
        "g = 2\n",
        "\n",
        "thisdict = dict.fromkeys(l, g)\n",
        "\n",
        "print(thisdict)"
      ],
      "execution_count": 103,
      "outputs": [
        {
          "output_type": "stream",
          "text": [
            "{'Namaku': 2, 'Hobbyku': 2}\n"
          ],
          "name": "stdout"
        }
      ]
    },
    {
      "cell_type": "markdown",
      "metadata": {
        "id": "nl9ZkUY4gDRJ"
      },
      "source": [
        "## Get()"
      ]
    },
    {
      "cell_type": "code",
      "metadata": {
        "id": "u8CbPd6igFW9",
        "colab": {
          "base_uri": "https://localhost:8080/"
        },
        "outputId": "f5a52d7a-35f4-4fac-a269-0d4bd9471bd3"
      },
      "source": [
        "car =\t{\n",
        "  \"brand\": \"Ford\",\n",
        "  \"model\": \"Mustang\",\n",
        "  \"year\": 1964\n",
        "}\n",
        "\n",
        "print(car.get('model'))"
      ],
      "execution_count": null,
      "outputs": [
        {
          "output_type": "stream",
          "text": [
            "Mustang\n"
          ],
          "name": "stdout"
        }
      ]
    },
    {
      "cell_type": "code",
      "metadata": {
        "id": "tVXJt2vCvtFk",
        "outputId": "8c86850d-2163-4d96-94fa-38791023f69c",
        "colab": {
          "base_uri": "https://localhost:8080/"
        }
      },
      "source": [
        "sayang =\t{\n",
        "  \"i\": \"aku\",\n",
        "  \"luv\": \"cinthaw\",\n",
        "  \"u\": \"kamu\"\n",
        "}\n",
        "\n",
        "print(sayang.get('luv'))"
      ],
      "execution_count": 104,
      "outputs": [
        {
          "output_type": "stream",
          "text": [
            "cinthaw\n"
          ],
          "name": "stdout"
        }
      ]
    },
    {
      "cell_type": "markdown",
      "metadata": {
        "id": "IfzbaW4lgWTa"
      },
      "source": [
        "##Items()"
      ]
    },
    {
      "cell_type": "code",
      "metadata": {
        "id": "gn_kNd6lgYlv",
        "colab": {
          "base_uri": "https://localhost:8080/"
        },
        "outputId": "d1768ad3-f0d8-41c5-bb69-81dc4860a735"
      },
      "source": [
        "car =\t{\n",
        "  \"brand\": \"Ford\",\n",
        "  \"model\": \"Mustang\",\n",
        "  \"year\": 1964\n",
        "}\n",
        "\n",
        "print(car.items())"
      ],
      "execution_count": null,
      "outputs": [
        {
          "output_type": "stream",
          "text": [
            "dict_items([('brand', 'Ford'), ('model', 'Mustang'), ('year', 1964)])\n"
          ],
          "name": "stdout"
        }
      ]
    },
    {
      "cell_type": "code",
      "metadata": {
        "id": "TXPKuOwCwWjt",
        "outputId": "7673ed6a-6b4d-41a3-ff78-fa318b507fd5",
        "colab": {
          "base_uri": "https://localhost:8080/"
        }
      },
      "source": [
        "sayang =\t{\n",
        "  \"i\": \"aku\",\n",
        "  \"luv\": \"cinthaw\",\n",
        "  \"u\": \"kamu\"\n",
        "}\n",
        "\n",
        "print(sayang.items())"
      ],
      "execution_count": 105,
      "outputs": [
        {
          "output_type": "stream",
          "text": [
            "dict_items([('i', 'aku'), ('luv', 'cinthaw'), ('u', 'kamu')])\n"
          ],
          "name": "stdout"
        }
      ]
    },
    {
      "cell_type": "markdown",
      "metadata": {
        "id": "SAp7WXAbU5Fn"
      },
      "source": [
        "##Pop()\n",
        "\n",
        "Menghapus item kunci sekaligus value yang disebutkan,mari kita lihat contohnya dibawah ini"
      ]
    },
    {
      "cell_type": "code",
      "metadata": {
        "id": "Rt8xRNXcVsSE",
        "colab": {
          "base_uri": "https://localhost:8080/"
        },
        "outputId": "86fcd255-7e98-4924-953d-dc9c551d4418"
      },
      "source": [
        "indoapril={'Barang':'Gundam','Merek':'Bandai','Jumlah':200}\n",
        "indoapril.pop('Barang')\n",
        "print(indoapril)"
      ],
      "execution_count": null,
      "outputs": [
        {
          "output_type": "stream",
          "text": [
            "{'Merek': 'Bandai', 'Jumlah': 200}\n"
          ],
          "name": "stdout"
        }
      ]
    },
    {
      "cell_type": "code",
      "metadata": {
        "id": "tSXe6cZjwv7k",
        "outputId": "ac1e7645-4a1a-4607-a195-ce0b5dc21d18",
        "colab": {
          "base_uri": "https://localhost:8080/"
        }
      },
      "source": [
        "warung={'snack':'taro','rasa':'micin','harga':2000000000}\n",
        "warung.pop('snack')\n",
        "print(warung)"
      ],
      "execution_count": 106,
      "outputs": [
        {
          "output_type": "stream",
          "text": [
            "{'rasa': 'micin', 'harga': 2000000000}\n"
          ],
          "name": "stdout"
        }
      ]
    },
    {
      "cell_type": "markdown",
      "metadata": {
        "id": "8VTYZPHvWphG"
      },
      "source": [
        "## Popitem()\n",
        "\n",
        "Menghapus item yang terakhir dimasukkan "
      ]
    },
    {
      "cell_type": "code",
      "metadata": {
        "id": "7Ko__9YSW0d3",
        "colab": {
          "base_uri": "https://localhost:8080/"
        },
        "outputId": "0e5dabf6-c2f2-4101-e1df-27c8a6bc3d6e"
      },
      "source": [
        "#Kita akan menghilangkan pelakor dalam \"kehidupan_keluarga\"\n",
        "kehidupan_keluarga={'suami':'Budi','istri':'Dewi','pelakor':'Sari'}\n",
        "kehidupan_keluarga.popitem()\n",
        "print(kehidupan_keluarga)"
      ],
      "execution_count": null,
      "outputs": [
        {
          "output_type": "stream",
          "text": [
            "{'suami': 'Budi', 'istri': 'Dewi'}\n"
          ],
          "name": "stdout"
        }
      ]
    },
    {
      "cell_type": "code",
      "metadata": {
        "id": "uq6xDtp4xk79",
        "outputId": "700eea8e-e78b-47cc-f8b8-e629c6e1bce5",
        "colab": {
          "base_uri": "https://localhost:8080/"
        }
      },
      "source": [
        "#Kita akan menghilangkan penikung dalam \"nikung_berkedok_nyomblangin_hehehe\"\n",
        "nikung_berkedok_nyomblangin_hehehe={'cowok':'Sianeh','cewek':'Sicantik','penikung':'Sicantikpolllllhuft'}\n",
        "nikung_berkedok_nyomblangin_hehehe.popitem()\n",
        "print(nikung_berkedok_nyomblangin_hehehe)"
      ],
      "execution_count": 107,
      "outputs": [
        {
          "output_type": "stream",
          "text": [
            "{'cowok': 'Sianeh', 'cewek': 'Sicantik'}\n"
          ],
          "name": "stdout"
        }
      ]
    },
    {
      "cell_type": "markdown",
      "metadata": {
        "id": "-Pa2ANcmYqn3"
      },
      "source": [
        "## Update()\n",
        "\n",
        "Menambahkan pasangan kunci yang diinginkan"
      ]
    },
    {
      "cell_type": "code",
      "metadata": {
        "id": "fGDs07Z5ZDTH",
        "colab": {
          "base_uri": "https://localhost:8080/"
        },
        "outputId": "e66e44e6-f14b-4358-c8c8-a32cf4e671ad"
      },
      "source": [
        "indoapril={'Barang':'Gundam','Merek':'Bandai','Jumlah':2000}\n",
        "indoapril.update({'Tanggal_Masuk': 12022020})\n",
        "print(indoapril)"
      ],
      "execution_count": null,
      "outputs": [
        {
          "output_type": "stream",
          "text": [
            "{'Barang': 'Gundam', 'Merek': 'Bandai', 'Jumlah': 2000, 'Tanggal_Masuk': 12022020}\n"
          ],
          "name": "stdout"
        }
      ]
    },
    {
      "cell_type": "code",
      "metadata": {
        "id": "dJaxo0AryckI",
        "outputId": "c8b14e0e-e208-4753-e3c3-dfa3d2f872a0",
        "colab": {
          "base_uri": "https://localhost:8080/"
        }
      },
      "source": [
        "toko={'snack':'popcorn','rasa':'teri','harga':2000000000}\n",
        "toko.update({'Tanggal_Exp': 121222})\n",
        "print(toko)"
      ],
      "execution_count": 108,
      "outputs": [
        {
          "output_type": "stream",
          "text": [
            "{'snack': 'popcorn', 'rasa': 'teri', 'harga': 2000000000, 'Tanggal_Exp': 121222}\n"
          ],
          "name": "stdout"
        }
      ]
    },
    {
      "cell_type": "markdown",
      "metadata": {
        "id": "Ezf7B8N5b0n9"
      },
      "source": [
        "## Values()\n",
        "\n",
        "Mengembalikan daftar nilai pada dictionary\n"
      ]
    },
    {
      "cell_type": "code",
      "metadata": {
        "id": "ka70siM6dsPq",
        "colab": {
          "base_uri": "https://localhost:8080/"
        },
        "outputId": "08f8d12f-e7c8-4c7e-8a17-72f2ac622e8a"
      },
      "source": [
        "indoapril={'Barang':'Gundam','Merek':'Bandai','Jumlah':200}\n",
        "a=indoapril.values()\n",
        "print(a)"
      ],
      "execution_count": null,
      "outputs": [
        {
          "output_type": "stream",
          "text": [
            "dict_values(['Gundam', 'Bandai', 200])\n"
          ],
          "name": "stdout"
        }
      ]
    },
    {
      "cell_type": "code",
      "metadata": {
        "id": "Da3M-jFmy-z_",
        "outputId": "5fa3cc3f-2b9b-4126-e732-cf3b85d27514",
        "colab": {
          "base_uri": "https://localhost:8080/"
        }
      },
      "source": [
        "toko={'Roti':'SariRoti','Rasanya':'Ah Mantan, eh typo mantab makhsutnya','Harga':2000000000}\n",
        "l=toko.values()\n",
        "print(l)"
      ],
      "execution_count": 109,
      "outputs": [
        {
          "output_type": "stream",
          "text": [
            "dict_values(['SariRoti', 'Ah Mantan, eh typo mantab makhsutnya', 2000000000])\n"
          ],
          "name": "stdout"
        }
      ]
    },
    {
      "cell_type": "markdown",
      "metadata": {
        "id": "SrenDDAWgr7Z"
      },
      "source": [
        "## len()"
      ]
    },
    {
      "cell_type": "markdown",
      "metadata": {
        "id": "R_W396Mng7-8"
      },
      "source": [
        "Method len digunakan untuk mengetahui banyaknya item yang ada pada directory"
      ]
    },
    {
      "cell_type": "code",
      "metadata": {
        "id": "18YplPaigxog",
        "colab": {
          "base_uri": "https://localhost:8080/"
        },
        "outputId": "e13b484e-283b-48d1-86fe-7b4f407b11f0"
      },
      "source": [
        "car =\t{\n",
        "  \"brand\": \"Ford\",\n",
        "  \"model\": \"Mustang\",\n",
        "  \"year\": 1964\n",
        "}\n",
        "\n",
        "print(len(car))"
      ],
      "execution_count": null,
      "outputs": [
        {
          "output_type": "stream",
          "text": [
            "3\n"
          ],
          "name": "stdout"
        }
      ]
    },
    {
      "cell_type": "code",
      "metadata": {
        "id": "AO408c1uzhye",
        "outputId": "98bc76fd-167e-443a-d585-c28ab95fb805",
        "colab": {
          "base_uri": "https://localhost:8080/"
        }
      },
      "source": [
        "Buah =\t{\n",
        "  \"Vitamin C1\": \"Jeruk Bali\",\n",
        "  \"Vitamin C2\": \"Jeruk Sunkiss\",\n",
        "  \"Vitamin C3\": \"Jeruk Lemon\"\n",
        "}\n",
        "\n",
        "print(len(Buah))"
      ],
      "execution_count": 110,
      "outputs": [
        {
          "output_type": "stream",
          "text": [
            "3\n"
          ],
          "name": "stdout"
        }
      ]
    },
    {
      "cell_type": "markdown",
      "metadata": {
        "id": "Wp4TnoFGQabX"
      },
      "source": [
        "#The End Of Notebook\n",
        "\n",
        "Alhamdulillah"
      ]
    }
  ]
}